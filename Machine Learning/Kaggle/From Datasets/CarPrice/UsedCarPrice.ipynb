{
  "nbformat": 4,
  "nbformat_minor": 0,
  "metadata": {
    "colab": {
      "provenance": []
    },
    "kernelspec": {
      "name": "python3",
      "display_name": "Python 3"
    },
    "language_info": {
      "name": "python"
    }
  },
  "cells": [
    {
      "cell_type": "markdown",
      "source": [
        "## **Today I'm saling cars**"
      ],
      "metadata": {
        "id": "7RhW28Xy9a0f"
      }
    },
    {
      "cell_type": "code",
      "execution_count": 141,
      "metadata": {
        "id": "JY5VyQmv9WCD"
      },
      "outputs": [],
      "source": [
        "import numpy as np\n",
        "import pandas as pd\n",
        "import matplotlib.pyplot as plt\n",
        "import seaborn as sns"
      ]
    },
    {
      "cell_type": "code",
      "source": [
        "df = pd.read_csv('cars.csv')\n",
        "df.head()"
      ],
      "metadata": {
        "colab": {
          "base_uri": "https://localhost:8080/",
          "height": 206
        },
        "id": "wezdRFmT9p4T",
        "outputId": "619bb753-447f-4568-8260-2792bfb3a3b9"
      },
      "execution_count": 142,
      "outputs": [
        {
          "output_type": "execute_result",
          "data": {
            "text/plain": [
              "   Car_ID    Brand    Model  Year  Kilometers_Driven Fuel_Type Transmission  \\\n",
              "0       1   Toyota  Corolla  2018              50000    Petrol       Manual   \n",
              "1       2    Honda    Civic  2019              40000    Petrol    Automatic   \n",
              "2       3     Ford  Mustang  2017              20000    Petrol    Automatic   \n",
              "3       4   Maruti    Swift  2020              30000    Diesel       Manual   \n",
              "4       5  Hyundai   Sonata  2016              60000    Diesel    Automatic   \n",
              "\n",
              "  Owner_Type  Mileage  Engine  Power  Seats    Price  \n",
              "0      First       15    1498    108      5   800000  \n",
              "1     Second       17    1597    140      5  1000000  \n",
              "2      First       10    4951    395      4  2500000  \n",
              "3      Third       23    1248     74      5   600000  \n",
              "4     Second       18    1999    194      5   850000  "
            ],
            "text/html": [
              "\n",
              "  <div id=\"df-bc0e639d-a6b4-4517-b032-8a3dfa7f1469\" class=\"colab-df-container\">\n",
              "    <div>\n",
              "<style scoped>\n",
              "    .dataframe tbody tr th:only-of-type {\n",
              "        vertical-align: middle;\n",
              "    }\n",
              "\n",
              "    .dataframe tbody tr th {\n",
              "        vertical-align: top;\n",
              "    }\n",
              "\n",
              "    .dataframe thead th {\n",
              "        text-align: right;\n",
              "    }\n",
              "</style>\n",
              "<table border=\"1\" class=\"dataframe\">\n",
              "  <thead>\n",
              "    <tr style=\"text-align: right;\">\n",
              "      <th></th>\n",
              "      <th>Car_ID</th>\n",
              "      <th>Brand</th>\n",
              "      <th>Model</th>\n",
              "      <th>Year</th>\n",
              "      <th>Kilometers_Driven</th>\n",
              "      <th>Fuel_Type</th>\n",
              "      <th>Transmission</th>\n",
              "      <th>Owner_Type</th>\n",
              "      <th>Mileage</th>\n",
              "      <th>Engine</th>\n",
              "      <th>Power</th>\n",
              "      <th>Seats</th>\n",
              "      <th>Price</th>\n",
              "    </tr>\n",
              "  </thead>\n",
              "  <tbody>\n",
              "    <tr>\n",
              "      <th>0</th>\n",
              "      <td>1</td>\n",
              "      <td>Toyota</td>\n",
              "      <td>Corolla</td>\n",
              "      <td>2018</td>\n",
              "      <td>50000</td>\n",
              "      <td>Petrol</td>\n",
              "      <td>Manual</td>\n",
              "      <td>First</td>\n",
              "      <td>15</td>\n",
              "      <td>1498</td>\n",
              "      <td>108</td>\n",
              "      <td>5</td>\n",
              "      <td>800000</td>\n",
              "    </tr>\n",
              "    <tr>\n",
              "      <th>1</th>\n",
              "      <td>2</td>\n",
              "      <td>Honda</td>\n",
              "      <td>Civic</td>\n",
              "      <td>2019</td>\n",
              "      <td>40000</td>\n",
              "      <td>Petrol</td>\n",
              "      <td>Automatic</td>\n",
              "      <td>Second</td>\n",
              "      <td>17</td>\n",
              "      <td>1597</td>\n",
              "      <td>140</td>\n",
              "      <td>5</td>\n",
              "      <td>1000000</td>\n",
              "    </tr>\n",
              "    <tr>\n",
              "      <th>2</th>\n",
              "      <td>3</td>\n",
              "      <td>Ford</td>\n",
              "      <td>Mustang</td>\n",
              "      <td>2017</td>\n",
              "      <td>20000</td>\n",
              "      <td>Petrol</td>\n",
              "      <td>Automatic</td>\n",
              "      <td>First</td>\n",
              "      <td>10</td>\n",
              "      <td>4951</td>\n",
              "      <td>395</td>\n",
              "      <td>4</td>\n",
              "      <td>2500000</td>\n",
              "    </tr>\n",
              "    <tr>\n",
              "      <th>3</th>\n",
              "      <td>4</td>\n",
              "      <td>Maruti</td>\n",
              "      <td>Swift</td>\n",
              "      <td>2020</td>\n",
              "      <td>30000</td>\n",
              "      <td>Diesel</td>\n",
              "      <td>Manual</td>\n",
              "      <td>Third</td>\n",
              "      <td>23</td>\n",
              "      <td>1248</td>\n",
              "      <td>74</td>\n",
              "      <td>5</td>\n",
              "      <td>600000</td>\n",
              "    </tr>\n",
              "    <tr>\n",
              "      <th>4</th>\n",
              "      <td>5</td>\n",
              "      <td>Hyundai</td>\n",
              "      <td>Sonata</td>\n",
              "      <td>2016</td>\n",
              "      <td>60000</td>\n",
              "      <td>Diesel</td>\n",
              "      <td>Automatic</td>\n",
              "      <td>Second</td>\n",
              "      <td>18</td>\n",
              "      <td>1999</td>\n",
              "      <td>194</td>\n",
              "      <td>5</td>\n",
              "      <td>850000</td>\n",
              "    </tr>\n",
              "  </tbody>\n",
              "</table>\n",
              "</div>\n",
              "    <div class=\"colab-df-buttons\">\n",
              "\n",
              "  <div class=\"colab-df-container\">\n",
              "    <button class=\"colab-df-convert\" onclick=\"convertToInteractive('df-bc0e639d-a6b4-4517-b032-8a3dfa7f1469')\"\n",
              "            title=\"Convert this dataframe to an interactive table.\"\n",
              "            style=\"display:none;\">\n",
              "\n",
              "  <svg xmlns=\"http://www.w3.org/2000/svg\" height=\"24px\" viewBox=\"0 -960 960 960\">\n",
              "    <path d=\"M120-120v-720h720v720H120Zm60-500h600v-160H180v160Zm220 220h160v-160H400v160Zm0 220h160v-160H400v160ZM180-400h160v-160H180v160Zm440 0h160v-160H620v160ZM180-180h160v-160H180v160Zm440 0h160v-160H620v160Z\"/>\n",
              "  </svg>\n",
              "    </button>\n",
              "\n",
              "  <style>\n",
              "    .colab-df-container {\n",
              "      display:flex;\n",
              "      gap: 12px;\n",
              "    }\n",
              "\n",
              "    .colab-df-convert {\n",
              "      background-color: #E8F0FE;\n",
              "      border: none;\n",
              "      border-radius: 50%;\n",
              "      cursor: pointer;\n",
              "      display: none;\n",
              "      fill: #1967D2;\n",
              "      height: 32px;\n",
              "      padding: 0 0 0 0;\n",
              "      width: 32px;\n",
              "    }\n",
              "\n",
              "    .colab-df-convert:hover {\n",
              "      background-color: #E2EBFA;\n",
              "      box-shadow: 0px 1px 2px rgba(60, 64, 67, 0.3), 0px 1px 3px 1px rgba(60, 64, 67, 0.15);\n",
              "      fill: #174EA6;\n",
              "    }\n",
              "\n",
              "    .colab-df-buttons div {\n",
              "      margin-bottom: 4px;\n",
              "    }\n",
              "\n",
              "    [theme=dark] .colab-df-convert {\n",
              "      background-color: #3B4455;\n",
              "      fill: #D2E3FC;\n",
              "    }\n",
              "\n",
              "    [theme=dark] .colab-df-convert:hover {\n",
              "      background-color: #434B5C;\n",
              "      box-shadow: 0px 1px 3px 1px rgba(0, 0, 0, 0.15);\n",
              "      filter: drop-shadow(0px 1px 2px rgba(0, 0, 0, 0.3));\n",
              "      fill: #FFFFFF;\n",
              "    }\n",
              "  </style>\n",
              "\n",
              "    <script>\n",
              "      const buttonEl =\n",
              "        document.querySelector('#df-bc0e639d-a6b4-4517-b032-8a3dfa7f1469 button.colab-df-convert');\n",
              "      buttonEl.style.display =\n",
              "        google.colab.kernel.accessAllowed ? 'block' : 'none';\n",
              "\n",
              "      async function convertToInteractive(key) {\n",
              "        const element = document.querySelector('#df-bc0e639d-a6b4-4517-b032-8a3dfa7f1469');\n",
              "        const dataTable =\n",
              "          await google.colab.kernel.invokeFunction('convertToInteractive',\n",
              "                                                    [key], {});\n",
              "        if (!dataTable) return;\n",
              "\n",
              "        const docLinkHtml = 'Like what you see? Visit the ' +\n",
              "          '<a target=\"_blank\" href=https://colab.research.google.com/notebooks/data_table.ipynb>data table notebook</a>'\n",
              "          + ' to learn more about interactive tables.';\n",
              "        element.innerHTML = '';\n",
              "        dataTable['output_type'] = 'display_data';\n",
              "        await google.colab.output.renderOutput(dataTable, element);\n",
              "        const docLink = document.createElement('div');\n",
              "        docLink.innerHTML = docLinkHtml;\n",
              "        element.appendChild(docLink);\n",
              "      }\n",
              "    </script>\n",
              "  </div>\n",
              "\n",
              "\n",
              "<div id=\"df-a7db722a-9993-48cb-9481-fe2463cd04d4\">\n",
              "  <button class=\"colab-df-quickchart\" onclick=\"quickchart('df-a7db722a-9993-48cb-9481-fe2463cd04d4')\"\n",
              "            title=\"Suggest charts\"\n",
              "            style=\"display:none;\">\n",
              "\n",
              "<svg xmlns=\"http://www.w3.org/2000/svg\" height=\"24px\"viewBox=\"0 0 24 24\"\n",
              "     width=\"24px\">\n",
              "    <g>\n",
              "        <path d=\"M19 3H5c-1.1 0-2 .9-2 2v14c0 1.1.9 2 2 2h14c1.1 0 2-.9 2-2V5c0-1.1-.9-2-2-2zM9 17H7v-7h2v7zm4 0h-2V7h2v10zm4 0h-2v-4h2v4z\"/>\n",
              "    </g>\n",
              "</svg>\n",
              "  </button>\n",
              "\n",
              "<style>\n",
              "  .colab-df-quickchart {\n",
              "      --bg-color: #E8F0FE;\n",
              "      --fill-color: #1967D2;\n",
              "      --hover-bg-color: #E2EBFA;\n",
              "      --hover-fill-color: #174EA6;\n",
              "      --disabled-fill-color: #AAA;\n",
              "      --disabled-bg-color: #DDD;\n",
              "  }\n",
              "\n",
              "  [theme=dark] .colab-df-quickchart {\n",
              "      --bg-color: #3B4455;\n",
              "      --fill-color: #D2E3FC;\n",
              "      --hover-bg-color: #434B5C;\n",
              "      --hover-fill-color: #FFFFFF;\n",
              "      --disabled-bg-color: #3B4455;\n",
              "      --disabled-fill-color: #666;\n",
              "  }\n",
              "\n",
              "  .colab-df-quickchart {\n",
              "    background-color: var(--bg-color);\n",
              "    border: none;\n",
              "    border-radius: 50%;\n",
              "    cursor: pointer;\n",
              "    display: none;\n",
              "    fill: var(--fill-color);\n",
              "    height: 32px;\n",
              "    padding: 0;\n",
              "    width: 32px;\n",
              "  }\n",
              "\n",
              "  .colab-df-quickchart:hover {\n",
              "    background-color: var(--hover-bg-color);\n",
              "    box-shadow: 0 1px 2px rgba(60, 64, 67, 0.3), 0 1px 3px 1px rgba(60, 64, 67, 0.15);\n",
              "    fill: var(--button-hover-fill-color);\n",
              "  }\n",
              "\n",
              "  .colab-df-quickchart-complete:disabled,\n",
              "  .colab-df-quickchart-complete:disabled:hover {\n",
              "    background-color: var(--disabled-bg-color);\n",
              "    fill: var(--disabled-fill-color);\n",
              "    box-shadow: none;\n",
              "  }\n",
              "\n",
              "  .colab-df-spinner {\n",
              "    border: 2px solid var(--fill-color);\n",
              "    border-color: transparent;\n",
              "    border-bottom-color: var(--fill-color);\n",
              "    animation:\n",
              "      spin 1s steps(1) infinite;\n",
              "  }\n",
              "\n",
              "  @keyframes spin {\n",
              "    0% {\n",
              "      border-color: transparent;\n",
              "      border-bottom-color: var(--fill-color);\n",
              "      border-left-color: var(--fill-color);\n",
              "    }\n",
              "    20% {\n",
              "      border-color: transparent;\n",
              "      border-left-color: var(--fill-color);\n",
              "      border-top-color: var(--fill-color);\n",
              "    }\n",
              "    30% {\n",
              "      border-color: transparent;\n",
              "      border-left-color: var(--fill-color);\n",
              "      border-top-color: var(--fill-color);\n",
              "      border-right-color: var(--fill-color);\n",
              "    }\n",
              "    40% {\n",
              "      border-color: transparent;\n",
              "      border-right-color: var(--fill-color);\n",
              "      border-top-color: var(--fill-color);\n",
              "    }\n",
              "    60% {\n",
              "      border-color: transparent;\n",
              "      border-right-color: var(--fill-color);\n",
              "    }\n",
              "    80% {\n",
              "      border-color: transparent;\n",
              "      border-right-color: var(--fill-color);\n",
              "      border-bottom-color: var(--fill-color);\n",
              "    }\n",
              "    90% {\n",
              "      border-color: transparent;\n",
              "      border-bottom-color: var(--fill-color);\n",
              "    }\n",
              "  }\n",
              "</style>\n",
              "\n",
              "  <script>\n",
              "    async function quickchart(key) {\n",
              "      const quickchartButtonEl =\n",
              "        document.querySelector('#' + key + ' button');\n",
              "      quickchartButtonEl.disabled = true;  // To prevent multiple clicks.\n",
              "      quickchartButtonEl.classList.add('colab-df-spinner');\n",
              "      try {\n",
              "        const charts = await google.colab.kernel.invokeFunction(\n",
              "            'suggestCharts', [key], {});\n",
              "      } catch (error) {\n",
              "        console.error('Error during call to suggestCharts:', error);\n",
              "      }\n",
              "      quickchartButtonEl.classList.remove('colab-df-spinner');\n",
              "      quickchartButtonEl.classList.add('colab-df-quickchart-complete');\n",
              "    }\n",
              "    (() => {\n",
              "      let quickchartButtonEl =\n",
              "        document.querySelector('#df-a7db722a-9993-48cb-9481-fe2463cd04d4 button');\n",
              "      quickchartButtonEl.style.display =\n",
              "        google.colab.kernel.accessAllowed ? 'block' : 'none';\n",
              "    })();\n",
              "  </script>\n",
              "</div>\n",
              "    </div>\n",
              "  </div>\n"
            ],
            "application/vnd.google.colaboratory.intrinsic+json": {
              "type": "dataframe",
              "variable_name": "df",
              "summary": "{\n  \"name\": \"df\",\n  \"rows\": 100,\n  \"fields\": [\n    {\n      \"column\": \"Car_ID\",\n      \"properties\": {\n        \"dtype\": \"number\",\n        \"std\": 29,\n        \"min\": 1,\n        \"max\": 100,\n        \"num_unique_values\": 100,\n        \"samples\": [\n          84,\n          54,\n          71\n        ],\n        \"semantic_type\": \"\",\n        \"description\": \"\"\n      }\n    },\n    {\n      \"column\": \"Brand\",\n      \"properties\": {\n        \"dtype\": \"category\",\n        \"num_unique_values\": 11,\n        \"samples\": [\n          \"Tata\",\n          \"Toyota\",\n          \"BMW\"\n        ],\n        \"semantic_type\": \"\",\n        \"description\": \"\"\n      }\n    },\n    {\n      \"column\": \"Model\",\n      \"properties\": {\n        \"dtype\": \"string\",\n        \"num_unique_values\": 58,\n        \"samples\": [\n          \"Corolla\",\n          \"Nexon\",\n          \"WR-V\"\n        ],\n        \"semantic_type\": \"\",\n        \"description\": \"\"\n      }\n    },\n    {\n      \"column\": \"Year\",\n      \"properties\": {\n        \"dtype\": \"number\",\n        \"std\": 1,\n        \"min\": 2016,\n        \"max\": 2021,\n        \"num_unique_values\": 6,\n        \"samples\": [\n          2018,\n          2019,\n          2021\n        ],\n        \"semantic_type\": \"\",\n        \"description\": \"\"\n      }\n    },\n    {\n      \"column\": \"Kilometers_Driven\",\n      \"properties\": {\n        \"dtype\": \"number\",\n        \"std\": 9121,\n        \"min\": 10000,\n        \"max\": 60000,\n        \"num_unique_values\": 18,\n        \"samples\": [\n          50000,\n          40000,\n          28000\n        ],\n        \"semantic_type\": \"\",\n        \"description\": \"\"\n      }\n    },\n    {\n      \"column\": \"Fuel_Type\",\n      \"properties\": {\n        \"dtype\": \"category\",\n        \"num_unique_values\": 2,\n        \"samples\": [\n          \"Diesel\",\n          \"Petrol\"\n        ],\n        \"semantic_type\": \"\",\n        \"description\": \"\"\n      }\n    },\n    {\n      \"column\": \"Transmission\",\n      \"properties\": {\n        \"dtype\": \"category\",\n        \"num_unique_values\": 2,\n        \"samples\": [\n          \"Automatic\",\n          \"Manual\"\n        ],\n        \"semantic_type\": \"\",\n        \"description\": \"\"\n      }\n    },\n    {\n      \"column\": \"Owner_Type\",\n      \"properties\": {\n        \"dtype\": \"category\",\n        \"num_unique_values\": 3,\n        \"samples\": [\n          \"First\",\n          \"Second\"\n        ],\n        \"semantic_type\": \"\",\n        \"description\": \"\"\n      }\n    },\n    {\n      \"column\": \"Mileage\",\n      \"properties\": {\n        \"dtype\": \"number\",\n        \"std\": 3,\n        \"min\": 10,\n        \"max\": 25,\n        \"num_unique_values\": 15,\n        \"samples\": [\n          25,\n          24\n        ],\n        \"semantic_type\": \"\",\n        \"description\": \"\"\n      }\n    },\n    {\n      \"column\": \"Engine\",\n      \"properties\": {\n        \"dtype\": \"number\",\n        \"std\": 631,\n        \"min\": 999,\n        \"max\": 4951,\n        \"num_unique_values\": 36,\n        \"samples\": [\n          1998,\n          1956\n        ],\n        \"semantic_type\": \"\",\n        \"description\": \"\"\n      }\n    },\n    {\n      \"column\": \"Power\",\n      \"properties\": {\n        \"dtype\": \"number\",\n        \"std\": 76,\n        \"min\": 68,\n        \"max\": 396,\n        \"num_unique_values\": 40,\n        \"samples\": [\n          126,\n          241\n        ],\n        \"semantic_type\": \"\",\n        \"description\": \"\"\n      }\n    },\n    {\n      \"column\": \"Seats\",\n      \"properties\": {\n        \"dtype\": \"number\",\n        \"std\": 0,\n        \"min\": 4,\n        \"max\": 7,\n        \"num_unique_values\": 3,\n        \"samples\": [\n          5,\n          4\n        ],\n        \"semantic_type\": \"\",\n        \"description\": \"\"\n      }\n    },\n    {\n      \"column\": \"Price\",\n      \"properties\": {\n        \"dtype\": \"number\",\n        \"std\": 1000264,\n        \"min\": 450000,\n        \"max\": 4000000,\n        \"num_unique_values\": 31,\n        \"samples\": [\n          450000,\n          3000000\n        ],\n        \"semantic_type\": \"\",\n        \"description\": \"\"\n      }\n    }\n  ]\n}"
            }
          },
          "metadata": {},
          "execution_count": 142
        }
      ]
    },
    {
      "cell_type": "code",
      "source": [
        "df.describe()"
      ],
      "metadata": {
        "colab": {
          "base_uri": "https://localhost:8080/",
          "height": 300
        },
        "id": "ySnMyHrM9xPz",
        "outputId": "3e95bbcd-6c80-43d5-b172-97e72e89b442"
      },
      "execution_count": 143,
      "outputs": [
        {
          "output_type": "execute_result",
          "data": {
            "text/plain": [
              "           Car_ID        Year  Kilometers_Driven     Mileage       Engine  \\\n",
              "count  100.000000   100.00000         100.000000  100.000000   100.000000   \n",
              "mean    50.500000  2018.39000       28150.000000   17.210000  1855.230000   \n",
              "std     29.011492     1.17116        9121.375716    3.309902   631.311475   \n",
              "min      1.000000  2016.00000       10000.000000   10.000000   999.000000   \n",
              "25%     25.750000  2017.75000       22000.000000   15.000000  1462.000000   \n",
              "50%     50.500000  2018.00000       27000.000000   17.000000  1774.000000   \n",
              "75%     75.250000  2019.00000       32000.000000   19.000000  2143.000000   \n",
              "max    100.000000  2021.00000       60000.000000   25.000000  4951.000000   \n",
              "\n",
              "            Power       Seats         Price  \n",
              "count  100.000000  100.000000  1.000000e+02  \n",
              "mean   158.130000    5.230000  1.574000e+06  \n",
              "std     76.968137    0.750151  1.000265e+06  \n",
              "min     68.000000    4.000000  4.500000e+05  \n",
              "25%    103.000000    5.000000  7.000000e+05  \n",
              "50%    148.000000    5.000000  1.300000e+06  \n",
              "75%    187.000000    5.000000  2.500000e+06  \n",
              "max    396.000000    7.000000  4.000000e+06  "
            ],
            "text/html": [
              "\n",
              "  <div id=\"df-a35d69ab-d569-42db-9703-b29090578dfd\" class=\"colab-df-container\">\n",
              "    <div>\n",
              "<style scoped>\n",
              "    .dataframe tbody tr th:only-of-type {\n",
              "        vertical-align: middle;\n",
              "    }\n",
              "\n",
              "    .dataframe tbody tr th {\n",
              "        vertical-align: top;\n",
              "    }\n",
              "\n",
              "    .dataframe thead th {\n",
              "        text-align: right;\n",
              "    }\n",
              "</style>\n",
              "<table border=\"1\" class=\"dataframe\">\n",
              "  <thead>\n",
              "    <tr style=\"text-align: right;\">\n",
              "      <th></th>\n",
              "      <th>Car_ID</th>\n",
              "      <th>Year</th>\n",
              "      <th>Kilometers_Driven</th>\n",
              "      <th>Mileage</th>\n",
              "      <th>Engine</th>\n",
              "      <th>Power</th>\n",
              "      <th>Seats</th>\n",
              "      <th>Price</th>\n",
              "    </tr>\n",
              "  </thead>\n",
              "  <tbody>\n",
              "    <tr>\n",
              "      <th>count</th>\n",
              "      <td>100.000000</td>\n",
              "      <td>100.00000</td>\n",
              "      <td>100.000000</td>\n",
              "      <td>100.000000</td>\n",
              "      <td>100.000000</td>\n",
              "      <td>100.000000</td>\n",
              "      <td>100.000000</td>\n",
              "      <td>1.000000e+02</td>\n",
              "    </tr>\n",
              "    <tr>\n",
              "      <th>mean</th>\n",
              "      <td>50.500000</td>\n",
              "      <td>2018.39000</td>\n",
              "      <td>28150.000000</td>\n",
              "      <td>17.210000</td>\n",
              "      <td>1855.230000</td>\n",
              "      <td>158.130000</td>\n",
              "      <td>5.230000</td>\n",
              "      <td>1.574000e+06</td>\n",
              "    </tr>\n",
              "    <tr>\n",
              "      <th>std</th>\n",
              "      <td>29.011492</td>\n",
              "      <td>1.17116</td>\n",
              "      <td>9121.375716</td>\n",
              "      <td>3.309902</td>\n",
              "      <td>631.311475</td>\n",
              "      <td>76.968137</td>\n",
              "      <td>0.750151</td>\n",
              "      <td>1.000265e+06</td>\n",
              "    </tr>\n",
              "    <tr>\n",
              "      <th>min</th>\n",
              "      <td>1.000000</td>\n",
              "      <td>2016.00000</td>\n",
              "      <td>10000.000000</td>\n",
              "      <td>10.000000</td>\n",
              "      <td>999.000000</td>\n",
              "      <td>68.000000</td>\n",
              "      <td>4.000000</td>\n",
              "      <td>4.500000e+05</td>\n",
              "    </tr>\n",
              "    <tr>\n",
              "      <th>25%</th>\n",
              "      <td>25.750000</td>\n",
              "      <td>2017.75000</td>\n",
              "      <td>22000.000000</td>\n",
              "      <td>15.000000</td>\n",
              "      <td>1462.000000</td>\n",
              "      <td>103.000000</td>\n",
              "      <td>5.000000</td>\n",
              "      <td>7.000000e+05</td>\n",
              "    </tr>\n",
              "    <tr>\n",
              "      <th>50%</th>\n",
              "      <td>50.500000</td>\n",
              "      <td>2018.00000</td>\n",
              "      <td>27000.000000</td>\n",
              "      <td>17.000000</td>\n",
              "      <td>1774.000000</td>\n",
              "      <td>148.000000</td>\n",
              "      <td>5.000000</td>\n",
              "      <td>1.300000e+06</td>\n",
              "    </tr>\n",
              "    <tr>\n",
              "      <th>75%</th>\n",
              "      <td>75.250000</td>\n",
              "      <td>2019.00000</td>\n",
              "      <td>32000.000000</td>\n",
              "      <td>19.000000</td>\n",
              "      <td>2143.000000</td>\n",
              "      <td>187.000000</td>\n",
              "      <td>5.000000</td>\n",
              "      <td>2.500000e+06</td>\n",
              "    </tr>\n",
              "    <tr>\n",
              "      <th>max</th>\n",
              "      <td>100.000000</td>\n",
              "      <td>2021.00000</td>\n",
              "      <td>60000.000000</td>\n",
              "      <td>25.000000</td>\n",
              "      <td>4951.000000</td>\n",
              "      <td>396.000000</td>\n",
              "      <td>7.000000</td>\n",
              "      <td>4.000000e+06</td>\n",
              "    </tr>\n",
              "  </tbody>\n",
              "</table>\n",
              "</div>\n",
              "    <div class=\"colab-df-buttons\">\n",
              "\n",
              "  <div class=\"colab-df-container\">\n",
              "    <button class=\"colab-df-convert\" onclick=\"convertToInteractive('df-a35d69ab-d569-42db-9703-b29090578dfd')\"\n",
              "            title=\"Convert this dataframe to an interactive table.\"\n",
              "            style=\"display:none;\">\n",
              "\n",
              "  <svg xmlns=\"http://www.w3.org/2000/svg\" height=\"24px\" viewBox=\"0 -960 960 960\">\n",
              "    <path d=\"M120-120v-720h720v720H120Zm60-500h600v-160H180v160Zm220 220h160v-160H400v160Zm0 220h160v-160H400v160ZM180-400h160v-160H180v160Zm440 0h160v-160H620v160ZM180-180h160v-160H180v160Zm440 0h160v-160H620v160Z\"/>\n",
              "  </svg>\n",
              "    </button>\n",
              "\n",
              "  <style>\n",
              "    .colab-df-container {\n",
              "      display:flex;\n",
              "      gap: 12px;\n",
              "    }\n",
              "\n",
              "    .colab-df-convert {\n",
              "      background-color: #E8F0FE;\n",
              "      border: none;\n",
              "      border-radius: 50%;\n",
              "      cursor: pointer;\n",
              "      display: none;\n",
              "      fill: #1967D2;\n",
              "      height: 32px;\n",
              "      padding: 0 0 0 0;\n",
              "      width: 32px;\n",
              "    }\n",
              "\n",
              "    .colab-df-convert:hover {\n",
              "      background-color: #E2EBFA;\n",
              "      box-shadow: 0px 1px 2px rgba(60, 64, 67, 0.3), 0px 1px 3px 1px rgba(60, 64, 67, 0.15);\n",
              "      fill: #174EA6;\n",
              "    }\n",
              "\n",
              "    .colab-df-buttons div {\n",
              "      margin-bottom: 4px;\n",
              "    }\n",
              "\n",
              "    [theme=dark] .colab-df-convert {\n",
              "      background-color: #3B4455;\n",
              "      fill: #D2E3FC;\n",
              "    }\n",
              "\n",
              "    [theme=dark] .colab-df-convert:hover {\n",
              "      background-color: #434B5C;\n",
              "      box-shadow: 0px 1px 3px 1px rgba(0, 0, 0, 0.15);\n",
              "      filter: drop-shadow(0px 1px 2px rgba(0, 0, 0, 0.3));\n",
              "      fill: #FFFFFF;\n",
              "    }\n",
              "  </style>\n",
              "\n",
              "    <script>\n",
              "      const buttonEl =\n",
              "        document.querySelector('#df-a35d69ab-d569-42db-9703-b29090578dfd button.colab-df-convert');\n",
              "      buttonEl.style.display =\n",
              "        google.colab.kernel.accessAllowed ? 'block' : 'none';\n",
              "\n",
              "      async function convertToInteractive(key) {\n",
              "        const element = document.querySelector('#df-a35d69ab-d569-42db-9703-b29090578dfd');\n",
              "        const dataTable =\n",
              "          await google.colab.kernel.invokeFunction('convertToInteractive',\n",
              "                                                    [key], {});\n",
              "        if (!dataTable) return;\n",
              "\n",
              "        const docLinkHtml = 'Like what you see? Visit the ' +\n",
              "          '<a target=\"_blank\" href=https://colab.research.google.com/notebooks/data_table.ipynb>data table notebook</a>'\n",
              "          + ' to learn more about interactive tables.';\n",
              "        element.innerHTML = '';\n",
              "        dataTable['output_type'] = 'display_data';\n",
              "        await google.colab.output.renderOutput(dataTable, element);\n",
              "        const docLink = document.createElement('div');\n",
              "        docLink.innerHTML = docLinkHtml;\n",
              "        element.appendChild(docLink);\n",
              "      }\n",
              "    </script>\n",
              "  </div>\n",
              "\n",
              "\n",
              "<div id=\"df-193f5a03-7346-4f79-8d1c-c1dbcc3b24b6\">\n",
              "  <button class=\"colab-df-quickchart\" onclick=\"quickchart('df-193f5a03-7346-4f79-8d1c-c1dbcc3b24b6')\"\n",
              "            title=\"Suggest charts\"\n",
              "            style=\"display:none;\">\n",
              "\n",
              "<svg xmlns=\"http://www.w3.org/2000/svg\" height=\"24px\"viewBox=\"0 0 24 24\"\n",
              "     width=\"24px\">\n",
              "    <g>\n",
              "        <path d=\"M19 3H5c-1.1 0-2 .9-2 2v14c0 1.1.9 2 2 2h14c1.1 0 2-.9 2-2V5c0-1.1-.9-2-2-2zM9 17H7v-7h2v7zm4 0h-2V7h2v10zm4 0h-2v-4h2v4z\"/>\n",
              "    </g>\n",
              "</svg>\n",
              "  </button>\n",
              "\n",
              "<style>\n",
              "  .colab-df-quickchart {\n",
              "      --bg-color: #E8F0FE;\n",
              "      --fill-color: #1967D2;\n",
              "      --hover-bg-color: #E2EBFA;\n",
              "      --hover-fill-color: #174EA6;\n",
              "      --disabled-fill-color: #AAA;\n",
              "      --disabled-bg-color: #DDD;\n",
              "  }\n",
              "\n",
              "  [theme=dark] .colab-df-quickchart {\n",
              "      --bg-color: #3B4455;\n",
              "      --fill-color: #D2E3FC;\n",
              "      --hover-bg-color: #434B5C;\n",
              "      --hover-fill-color: #FFFFFF;\n",
              "      --disabled-bg-color: #3B4455;\n",
              "      --disabled-fill-color: #666;\n",
              "  }\n",
              "\n",
              "  .colab-df-quickchart {\n",
              "    background-color: var(--bg-color);\n",
              "    border: none;\n",
              "    border-radius: 50%;\n",
              "    cursor: pointer;\n",
              "    display: none;\n",
              "    fill: var(--fill-color);\n",
              "    height: 32px;\n",
              "    padding: 0;\n",
              "    width: 32px;\n",
              "  }\n",
              "\n",
              "  .colab-df-quickchart:hover {\n",
              "    background-color: var(--hover-bg-color);\n",
              "    box-shadow: 0 1px 2px rgba(60, 64, 67, 0.3), 0 1px 3px 1px rgba(60, 64, 67, 0.15);\n",
              "    fill: var(--button-hover-fill-color);\n",
              "  }\n",
              "\n",
              "  .colab-df-quickchart-complete:disabled,\n",
              "  .colab-df-quickchart-complete:disabled:hover {\n",
              "    background-color: var(--disabled-bg-color);\n",
              "    fill: var(--disabled-fill-color);\n",
              "    box-shadow: none;\n",
              "  }\n",
              "\n",
              "  .colab-df-spinner {\n",
              "    border: 2px solid var(--fill-color);\n",
              "    border-color: transparent;\n",
              "    border-bottom-color: var(--fill-color);\n",
              "    animation:\n",
              "      spin 1s steps(1) infinite;\n",
              "  }\n",
              "\n",
              "  @keyframes spin {\n",
              "    0% {\n",
              "      border-color: transparent;\n",
              "      border-bottom-color: var(--fill-color);\n",
              "      border-left-color: var(--fill-color);\n",
              "    }\n",
              "    20% {\n",
              "      border-color: transparent;\n",
              "      border-left-color: var(--fill-color);\n",
              "      border-top-color: var(--fill-color);\n",
              "    }\n",
              "    30% {\n",
              "      border-color: transparent;\n",
              "      border-left-color: var(--fill-color);\n",
              "      border-top-color: var(--fill-color);\n",
              "      border-right-color: var(--fill-color);\n",
              "    }\n",
              "    40% {\n",
              "      border-color: transparent;\n",
              "      border-right-color: var(--fill-color);\n",
              "      border-top-color: var(--fill-color);\n",
              "    }\n",
              "    60% {\n",
              "      border-color: transparent;\n",
              "      border-right-color: var(--fill-color);\n",
              "    }\n",
              "    80% {\n",
              "      border-color: transparent;\n",
              "      border-right-color: var(--fill-color);\n",
              "      border-bottom-color: var(--fill-color);\n",
              "    }\n",
              "    90% {\n",
              "      border-color: transparent;\n",
              "      border-bottom-color: var(--fill-color);\n",
              "    }\n",
              "  }\n",
              "</style>\n",
              "\n",
              "  <script>\n",
              "    async function quickchart(key) {\n",
              "      const quickchartButtonEl =\n",
              "        document.querySelector('#' + key + ' button');\n",
              "      quickchartButtonEl.disabled = true;  // To prevent multiple clicks.\n",
              "      quickchartButtonEl.classList.add('colab-df-spinner');\n",
              "      try {\n",
              "        const charts = await google.colab.kernel.invokeFunction(\n",
              "            'suggestCharts', [key], {});\n",
              "      } catch (error) {\n",
              "        console.error('Error during call to suggestCharts:', error);\n",
              "      }\n",
              "      quickchartButtonEl.classList.remove('colab-df-spinner');\n",
              "      quickchartButtonEl.classList.add('colab-df-quickchart-complete');\n",
              "    }\n",
              "    (() => {\n",
              "      let quickchartButtonEl =\n",
              "        document.querySelector('#df-193f5a03-7346-4f79-8d1c-c1dbcc3b24b6 button');\n",
              "      quickchartButtonEl.style.display =\n",
              "        google.colab.kernel.accessAllowed ? 'block' : 'none';\n",
              "    })();\n",
              "  </script>\n",
              "</div>\n",
              "    </div>\n",
              "  </div>\n"
            ],
            "application/vnd.google.colaboratory.intrinsic+json": {
              "type": "dataframe",
              "summary": "{\n  \"name\": \"df\",\n  \"rows\": 8,\n  \"fields\": [\n    {\n      \"column\": \"Car_ID\",\n      \"properties\": {\n        \"dtype\": \"number\",\n        \"std\": 35.736237144555226,\n        \"min\": 1.0,\n        \"max\": 100.0,\n        \"num_unique_values\": 6,\n        \"samples\": [\n          100.0,\n          50.5,\n          75.25\n        ],\n        \"semantic_type\": \"\",\n        \"description\": \"\"\n      }\n    },\n    {\n      \"column\": \"Year\",\n      \"properties\": {\n        \"dtype\": \"number\",\n        \"std\": 911.2849323017462,\n        \"min\": 1.1711601776085805,\n        \"max\": 2021.0,\n        \"num_unique_values\": 8,\n        \"samples\": [\n          2018.39,\n          2018.0,\n          100.0\n        ],\n        \"semantic_type\": \"\",\n        \"description\": \"\"\n      }\n    },\n    {\n      \"column\": \"Kilometers_Driven\",\n      \"properties\": {\n        \"dtype\": \"number\",\n        \"std\": 18428.0845307791,\n        \"min\": 100.0,\n        \"max\": 60000.0,\n        \"num_unique_values\": 8,\n        \"samples\": [\n          28150.0,\n          27000.0,\n          100.0\n        ],\n        \"semantic_type\": \"\",\n        \"description\": \"\"\n      }\n    },\n    {\n      \"column\": \"Mileage\",\n      \"properties\": {\n        \"dtype\": \"number\",\n        \"std\": 30.649704702792956,\n        \"min\": 3.3099024978773235,\n        \"max\": 100.0,\n        \"num_unique_values\": 8,\n        \"samples\": [\n          17.21,\n          17.0,\n          100.0\n        ],\n        \"semantic_type\": \"\",\n        \"description\": \"\"\n      }\n    },\n    {\n      \"column\": \"Engine\",\n      \"properties\": {\n        \"dtype\": \"number\",\n        \"std\": 1465.4359035951397,\n        \"min\": 100.0,\n        \"max\": 4951.0,\n        \"num_unique_values\": 8,\n        \"samples\": [\n          1855.23,\n          1774.0,\n          100.0\n        ],\n        \"semantic_type\": \"\",\n        \"description\": \"\"\n      }\n    },\n    {\n      \"column\": \"Power\",\n      \"properties\": {\n        \"dtype\": \"number\",\n        \"std\": 105.93105305922346,\n        \"min\": 68.0,\n        \"max\": 396.0,\n        \"num_unique_values\": 8,\n        \"samples\": [\n          158.13,\n          148.0,\n          100.0\n        ],\n        \"semantic_type\": \"\",\n        \"description\": \"\"\n      }\n    },\n    {\n      \"column\": \"Seats\",\n      \"properties\": {\n        \"dtype\": \"number\",\n        \"std\": 33.78624102571152,\n        \"min\": 0.7501514998500455,\n        \"max\": 100.0,\n        \"num_unique_values\": 6,\n        \"samples\": [\n          100.0,\n          5.23,\n          7.0\n        ],\n        \"semantic_type\": \"\",\n        \"description\": \"\"\n      }\n    },\n    {\n      \"column\": \"Price\",\n      \"properties\": {\n        \"dtype\": \"number\",\n        \"std\": 1282248.7412304573,\n        \"min\": 100.0,\n        \"max\": 4000000.0,\n        \"num_unique_values\": 8,\n        \"samples\": [\n          1574000.0,\n          1300000.0,\n          100.0\n        ],\n        \"semantic_type\": \"\",\n        \"description\": \"\"\n      }\n    }\n  ]\n}"
            }
          },
          "metadata": {},
          "execution_count": 143
        }
      ]
    },
    {
      "cell_type": "code",
      "source": [
        "df.info()"
      ],
      "metadata": {
        "colab": {
          "base_uri": "https://localhost:8080/"
        },
        "id": "jCU3WDE5BBJR",
        "outputId": "2aa7c167-1654-4862-ac8e-ba97ecf5ec20"
      },
      "execution_count": 144,
      "outputs": [
        {
          "output_type": "stream",
          "name": "stdout",
          "text": [
            "<class 'pandas.core.frame.DataFrame'>\n",
            "RangeIndex: 100 entries, 0 to 99\n",
            "Data columns (total 13 columns):\n",
            " #   Column             Non-Null Count  Dtype \n",
            "---  ------             --------------  ----- \n",
            " 0   Car_ID             100 non-null    int64 \n",
            " 1   Brand              100 non-null    object\n",
            " 2   Model              100 non-null    object\n",
            " 3   Year               100 non-null    int64 \n",
            " 4   Kilometers_Driven  100 non-null    int64 \n",
            " 5   Fuel_Type          100 non-null    object\n",
            " 6   Transmission       100 non-null    object\n",
            " 7   Owner_Type         100 non-null    object\n",
            " 8   Mileage            100 non-null    int64 \n",
            " 9   Engine             100 non-null    int64 \n",
            " 10  Power              100 non-null    int64 \n",
            " 11  Seats              100 non-null    int64 \n",
            " 12  Price              100 non-null    int64 \n",
            "dtypes: int64(8), object(5)\n",
            "memory usage: 10.3+ KB\n"
          ]
        }
      ]
    },
    {
      "cell_type": "code",
      "source": [
        "# that's okay\n",
        "print(df['Brand'].nunique())\n",
        "print(df['Owner_Type'].nunique())\n",
        "# that's not okay\n",
        "print(df['Model'].nunique())"
      ],
      "metadata": {
        "colab": {
          "base_uri": "https://localhost:8080/"
        },
        "id": "7wo-TpLzBRAK",
        "outputId": "31096eb8-6e5b-41bc-de22-377823f0fc73"
      },
      "execution_count": 145,
      "outputs": [
        {
          "output_type": "stream",
          "name": "stdout",
          "text": [
            "11\n",
            "3\n",
            "58\n"
          ]
        }
      ]
    },
    {
      "cell_type": "code",
      "source": [
        "df = df.drop('Model', axis=1)\n",
        "df.shape"
      ],
      "metadata": {
        "colab": {
          "base_uri": "https://localhost:8080/"
        },
        "id": "AMrHhU3xCXGa",
        "outputId": "2f1832ea-f1eb-453d-dee1-414466b10184"
      },
      "execution_count": 146,
      "outputs": [
        {
          "output_type": "execute_result",
          "data": {
            "text/plain": [
              "(100, 12)"
            ]
          },
          "metadata": {},
          "execution_count": 146
        }
      ]
    },
    {
      "cell_type": "markdown",
      "source": [
        "**I will transform price from INR to USD as it's more convenient**\n",
        "Course of 09.06.2024"
      ],
      "metadata": {
        "id": "kO8Pge0dFn_B"
      }
    },
    {
      "cell_type": "code",
      "source": [
        "df['Price'] = df['Price'] * 0.012"
      ],
      "metadata": {
        "id": "ToEaK19uF1zl"
      },
      "execution_count": 147,
      "outputs": []
    },
    {
      "cell_type": "markdown",
      "source": [
        "## **What Factors are Useful**\n",
        "![image.png](data:image/png;base64,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)"
      ],
      "metadata": {
        "id": "H9dxl3FtCpX8"
      }
    },
    {
      "cell_type": "code",
      "source": [
        "fig, (ax1, ax2) = plt.subplots(nrows=1, ncols=2, figsize=(10, 5))\n",
        "\n",
        "fig.suptitle('Price distribution')\n",
        "\n",
        "ax1.boxplot(df['Price']);\n",
        "ax2.hist(df['Price']);"
      ],
      "metadata": {
        "colab": {
          "base_uri": "https://localhost:8080/",
          "height": 495
        },
        "id": "VgP9mWCVC_Vz",
        "outputId": "3f16078a-044f-43aa-e75a-5dff49bcad04"
      },
      "execution_count": 148,
      "outputs": [
        {
          "output_type": "display_data",
          "data": {
            "text/plain": [
              "<Figure size 1000x500 with 2 Axes>"
            ],
            "image/png": "[encoded data removed]"
          },
          "metadata": {}
        }
      ]
    },
    {
      "cell_type": "code",
      "source": [
        "sns.heatmap(df.corr(numeric_only=True), annot=True, fmt='.2f');"
      ],
      "metadata": {
        "colab": {
          "base_uri": "https://localhost:8080/",
          "height": 548
        },
        "id": "J0b9--3ACbwX",
        "outputId": "b9168eea-2b5a-4a58-c3dc-2de3a489e39f"
      },
      "execution_count": 149,
      "outputs": [
        {
          "output_type": "display_data",
          "data": {
            "text/plain": [
              "<Figure size 640x480 with 2 Axes>"
            ],
            "image/png": "[encoded data removed]"
          },
          "metadata": {}
        }
      ]
    },
    {
      "cell_type": "code",
      "source": [
        "plt.title('Scatterplot of Price and power')\n",
        "sns.scatterplot(x='Price', y='Power', data=df);"
      ],
      "metadata": {
        "colab": {
          "base_uri": "https://localhost:8080/",
          "height": 472
        },
        "id": "1Y08b6baD5gj",
        "outputId": "04fc5337-e56c-4624-928d-3956545b34ee"
      },
      "execution_count": 150,
      "outputs": [
        {
          "output_type": "display_data",
          "data": {
            "text/plain": [
              "<Figure size 640x480 with 1 Axes>"
            ],
            "image/png": "[encoded data removed]"
          },
          "metadata": {}
        }
      ]
    },
    {
      "cell_type": "code",
      "source": [
        "plt.title('Scatterplot of Price and power')\n",
        "sns.scatterplot(x='Price', y='Mileage', data=df);"
      ],
      "metadata": {
        "colab": {
          "base_uri": "https://localhost:8080/",
          "height": 472
        },
        "id": "snIlsoYEERx9",
        "outputId": "45f43da1-9ee0-4d72-b840-a3a18bc42e4d"
      },
      "execution_count": 151,
      "outputs": [
        {
          "output_type": "display_data",
          "data": {
            "text/plain": [
              "<Figure size 640x480 with 1 Axes>"
            ],
            "image/png": "[encoded data removed]"
          },
          "metadata": {}
        }
      ]
    },
    {
      "cell_type": "markdown",
      "source": [
        "well..."
      ],
      "metadata": {
        "id": "DczUmwpoE6z8"
      }
    },
    {
      "cell_type": "code",
      "source": [
        "df = df.drop('Car_ID', axis=1)"
      ],
      "metadata": {
        "id": "E77kWSNcG7B5"
      },
      "execution_count": 152,
      "outputs": []
    },
    {
      "cell_type": "markdown",
      "source": [
        "# **Data Scaling and preprocessing**"
      ],
      "metadata": {
        "id": "H8S-_UVjGnqZ"
      }
    },
    {
      "cell_type": "code",
      "source": [
        "df.head(1)"
      ],
      "metadata": {
        "colab": {
          "base_uri": "https://localhost:8080/",
          "height": 81
        },
        "id": "3yyOqHduG4Qz",
        "outputId": "88f5883b-b3bd-4a06-e4ca-16079415f4fb"
      },
      "execution_count": 153,
      "outputs": [
        {
          "output_type": "execute_result",
          "data": {
            "text/plain": [
              "    Brand  Year  Kilometers_Driven Fuel_Type Transmission Owner_Type  Mileage  \\\n",
              "0  Toyota  2018              50000    Petrol       Manual      First       15   \n",
              "\n",
              "   Engine  Power  Seats   Price  \n",
              "0    1498    108      5  9600.0  "
            ],
            "text/html": [
              "\n",
              "  <div id=\"df-98d3c9ee-ca95-4a37-bdea-20b1c02d11ff\" class=\"colab-df-container\">\n",
              "    <div>\n",
              "<style scoped>\n",
              "    .dataframe tbody tr th:only-of-type {\n",
              "        vertical-align: middle;\n",
              "    }\n",
              "\n",
              "    .dataframe tbody tr th {\n",
              "        vertical-align: top;\n",
              "    }\n",
              "\n",
              "    .dataframe thead th {\n",
              "        text-align: right;\n",
              "    }\n",
              "</style>\n",
              "<table border=\"1\" class=\"dataframe\">\n",
              "  <thead>\n",
              "    <tr style=\"text-align: right;\">\n",
              "      <th></th>\n",
              "      <th>Brand</th>\n",
              "      <th>Year</th>\n",
              "      <th>Kilometers_Driven</th>\n",
              "      <th>Fuel_Type</th>\n",
              "      <th>Transmission</th>\n",
              "      <th>Owner_Type</th>\n",
              "      <th>Mileage</th>\n",
              "      <th>Engine</th>\n",
              "      <th>Power</th>\n",
              "      <th>Seats</th>\n",
              "      <th>Price</th>\n",
              "    </tr>\n",
              "  </thead>\n",
              "  <tbody>\n",
              "    <tr>\n",
              "      <th>0</th>\n",
              "      <td>Toyota</td>\n",
              "      <td>2018</td>\n",
              "      <td>50000</td>\n",
              "      <td>Petrol</td>\n",
              "      <td>Manual</td>\n",
              "      <td>First</td>\n",
              "      <td>15</td>\n",
              "      <td>1498</td>\n",
              "      <td>108</td>\n",
              "      <td>5</td>\n",
              "      <td>9600.0</td>\n",
              "    </tr>\n",
              "  </tbody>\n",
              "</table>\n",
              "</div>\n",
              "    <div class=\"colab-df-buttons\">\n",
              "\n",
              "  <div class=\"colab-df-container\">\n",
              "    <button class=\"colab-df-convert\" onclick=\"convertToInteractive('df-98d3c9ee-ca95-4a37-bdea-20b1c02d11ff')\"\n",
              "            title=\"Convert this dataframe to an interactive table.\"\n",
              "            style=\"display:none;\">\n",
              "\n",
              "  <svg xmlns=\"http://www.w3.org/2000/svg\" height=\"24px\" viewBox=\"0 -960 960 960\">\n",
              "    <path d=\"M120-120v-720h720v720H120Zm60-500h600v-160H180v160Zm220 220h160v-160H400v160Zm0 220h160v-160H400v160ZM180-400h160v-160H180v160Zm440 0h160v-160H620v160ZM180-180h160v-160H180v160Zm440 0h160v-160H620v160Z\"/>\n",
              "  </svg>\n",
              "    </button>\n",
              "\n",
              "  <style>\n",
              "    .colab-df-container {\n",
              "      display:flex;\n",
              "      gap: 12px;\n",
              "    }\n",
              "\n",
              "    .colab-df-convert {\n",
              "      background-color: #E8F0FE;\n",
              "      border: none;\n",
              "      border-radius: 50%;\n",
              "      cursor: pointer;\n",
              "      display: none;\n",
              "      fill: #1967D2;\n",
              "      height: 32px;\n",
              "      padding: 0 0 0 0;\n",
              "      width: 32px;\n",
              "    }\n",
              "\n",
              "    .colab-df-convert:hover {\n",
              "      background-color: #E2EBFA;\n",
              "      box-shadow: 0px 1px 2px rgba(60, 64, 67, 0.3), 0px 1px 3px 1px rgba(60, 64, 67, 0.15);\n",
              "      fill: #174EA6;\n",
              "    }\n",
              "\n",
              "    .colab-df-buttons div {\n",
              "      margin-bottom: 4px;\n",
              "    }\n",
              "\n",
              "    [theme=dark] .colab-df-convert {\n",
              "      background-color: #3B4455;\n",
              "      fill: #D2E3FC;\n",
              "    }\n",
              "\n",
              "    [theme=dark] .colab-df-convert:hover {\n",
              "      background-color: #434B5C;\n",
              "      box-shadow: 0px 1px 3px 1px rgba(0, 0, 0, 0.15);\n",
              "      filter: drop-shadow(0px 1px 2px rgba(0, 0, 0, 0.3));\n",
              "      fill: #FFFFFF;\n",
              "    }\n",
              "  </style>\n",
              "\n",
              "    <script>\n",
              "      const buttonEl =\n",
              "        document.querySelector('#df-98d3c9ee-ca95-4a37-bdea-20b1c02d11ff button.colab-df-convert');\n",
              "      buttonEl.style.display =\n",
              "        google.colab.kernel.accessAllowed ? 'block' : 'none';\n",
              "\n",
              "      async function convertToInteractive(key) {\n",
              "        const element = document.querySelector('#df-98d3c9ee-ca95-4a37-bdea-20b1c02d11ff');\n",
              "        const dataTable =\n",
              "          await google.colab.kernel.invokeFunction('convertToInteractive',\n",
              "                                                    [key], {});\n",
              "        if (!dataTable) return;\n",
              "\n",
              "        const docLinkHtml = 'Like what you see? Visit the ' +\n",
              "          '<a target=\"_blank\" href=https://colab.research.google.com/notebooks/data_table.ipynb>data table notebook</a>'\n",
              "          + ' to learn more about interactive tables.';\n",
              "        element.innerHTML = '';\n",
              "        dataTable['output_type'] = 'display_data';\n",
              "        await google.colab.output.renderOutput(dataTable, element);\n",
              "        const docLink = document.createElement('div');\n",
              "        docLink.innerHTML = docLinkHtml;\n",
              "        element.appendChild(docLink);\n",
              "      }\n",
              "    </script>\n",
              "  </div>\n",
              "\n",
              "    </div>\n",
              "  </div>\n"
            ],
            "application/vnd.google.colaboratory.intrinsic+json": {
              "type": "dataframe",
              "variable_name": "df",
              "summary": "{\n  \"name\": \"df\",\n  \"rows\": 100,\n  \"fields\": [\n    {\n      \"column\": \"Brand\",\n      \"properties\": {\n        \"dtype\": \"category\",\n        \"num_unique_values\": 11,\n        \"samples\": [\n          \"Tata\",\n          \"Toyota\",\n          \"BMW\"\n        ],\n        \"semantic_type\": \"\",\n        \"description\": \"\"\n      }\n    },\n    {\n      \"column\": \"Year\",\n      \"properties\": {\n        \"dtype\": \"number\",\n        \"std\": 1,\n        \"min\": 2016,\n        \"max\": 2021,\n        \"num_unique_values\": 6,\n        \"samples\": [\n          2018,\n          2019,\n          2021\n        ],\n        \"semantic_type\": \"\",\n        \"description\": \"\"\n      }\n    },\n    {\n      \"column\": \"Kilometers_Driven\",\n      \"properties\": {\n        \"dtype\": \"number\",\n        \"std\": 9121,\n        \"min\": 10000,\n        \"max\": 60000,\n        \"num_unique_values\": 18,\n        \"samples\": [\n          50000,\n          40000,\n          28000\n        ],\n        \"semantic_type\": \"\",\n        \"description\": \"\"\n      }\n    },\n    {\n      \"column\": \"Fuel_Type\",\n      \"properties\": {\n        \"dtype\": \"category\",\n        \"num_unique_values\": 2,\n        \"samples\": [\n          \"Diesel\",\n          \"Petrol\"\n        ],\n        \"semantic_type\": \"\",\n        \"description\": \"\"\n      }\n    },\n    {\n      \"column\": \"Transmission\",\n      \"properties\": {\n        \"dtype\": \"category\",\n        \"num_unique_values\": 2,\n        \"samples\": [\n          \"Automatic\",\n          \"Manual\"\n        ],\n        \"semantic_type\": \"\",\n        \"description\": \"\"\n      }\n    },\n    {\n      \"column\": \"Owner_Type\",\n      \"properties\": {\n        \"dtype\": \"category\",\n        \"num_unique_values\": 3,\n        \"samples\": [\n          \"First\",\n          \"Second\"\n        ],\n        \"semantic_type\": \"\",\n        \"description\": \"\"\n      }\n    },\n    {\n      \"column\": \"Mileage\",\n      \"properties\": {\n        \"dtype\": \"number\",\n        \"std\": 3,\n        \"min\": 10,\n        \"max\": 25,\n        \"num_unique_values\": 15,\n        \"samples\": [\n          25,\n          24\n        ],\n        \"semantic_type\": \"\",\n        \"description\": \"\"\n      }\n    },\n    {\n      \"column\": \"Engine\",\n      \"properties\": {\n        \"dtype\": \"number\",\n        \"std\": 631,\n        \"min\": 999,\n        \"max\": 4951,\n        \"num_unique_values\": 36,\n        \"samples\": [\n          1998,\n          1956\n        ],\n        \"semantic_type\": \"\",\n        \"description\": \"\"\n      }\n    },\n    {\n      \"column\": \"Power\",\n      \"properties\": {\n        \"dtype\": \"number\",\n        \"std\": 76,\n        \"min\": 68,\n        \"max\": 396,\n        \"num_unique_values\": 40,\n        \"samples\": [\n          126,\n          241\n        ],\n        \"semantic_type\": \"\",\n        \"description\": \"\"\n      }\n    },\n    {\n      \"column\": \"Seats\",\n      \"properties\": {\n        \"dtype\": \"number\",\n        \"std\": 0,\n        \"min\": 4,\n        \"max\": 7,\n        \"num_unique_values\": 3,\n        \"samples\": [\n          5,\n          4\n        ],\n        \"semantic_type\": \"\",\n        \"description\": \"\"\n      }\n    },\n    {\n      \"column\": \"Price\",\n      \"properties\": {\n        \"dtype\": \"number\",\n        \"std\": 12003.175337460425,\n        \"min\": 5400.0,\n        \"max\": 48000.0,\n        \"num_unique_values\": 31,\n        \"samples\": [\n          5400.0,\n          36000.0\n        ],\n        \"semantic_type\": \"\",\n        \"description\": \"\"\n      }\n    }\n  ]\n}"
            }
          },
          "metadata": {},
          "execution_count": 153
        }
      ]
    },
    {
      "cell_type": "code",
      "source": [
        "from sklearn.preprocessing import OneHotEncoder, StandardScaler"
      ],
      "metadata": {
        "id": "YqJlRr4yE78W"
      },
      "execution_count": 154,
      "outputs": []
    },
    {
      "cell_type": "code",
      "source": [
        "num = ['Kilometers_Driven', 'Mileage', 'Engine', 'Power', 'Seats', 'Year']\n",
        "cat = ['Brand', 'Fuel_Type', 'Transmission', 'Owner_Type']"
      ],
      "metadata": {
        "id": "k8er5-8LGx62"
      },
      "execution_count": 155,
      "outputs": []
    },
    {
      "cell_type": "code",
      "source": [
        "scaler = StandardScaler()\n",
        "numeric_transformed = scaler.fit_transform(df[num])"
      ],
      "metadata": {
        "id": "osZS8Nh1Htye"
      },
      "execution_count": 156,
      "outputs": []
    },
    {
      "cell_type": "code",
      "source": [
        "numeric_transformed_df = pd.DataFrame(numeric_transformed, columns=num)\n",
        "numeric_transformed_df.head()"
      ],
      "metadata": {
        "colab": {
          "base_uri": "https://localhost:8080/",
          "height": 206
        },
        "id": "2HDgO6QPH6If",
        "outputId": "2103d748-5715-496e-d7c4-096787996974"
      },
      "execution_count": 157,
      "outputs": [
        {
          "output_type": "execute_result",
          "data": {
            "text/plain": [
              "   Kilometers_Driven   Mileage    Engine     Power     Seats      Year\n",
              "0           2.407540 -0.671057 -0.568704 -0.654590 -0.308149 -0.334681\n",
              "1           1.305691 -0.063766 -0.411098 -0.236739 -0.308149  0.523475\n",
              "2          -0.898007 -2.189286  4.928417  3.093011 -1.647929 -1.192836\n",
              "3           0.203842  1.758109 -0.966700 -1.098556 -0.308149  1.381631\n",
              "4           3.509389  0.239880  0.228880  0.468385 -0.308149 -2.050992"
            ],
            "text/html": [
              "\n",
              "  <div id=\"df-86dc504a-ad66-4a42-84b9-3395ae845923\" class=\"colab-df-container\">\n",
              "    <div>\n",
              "<style scoped>\n",
              "    .dataframe tbody tr th:only-of-type {\n",
              "        vertical-align: middle;\n",
              "    }\n",
              "\n",
              "    .dataframe tbody tr th {\n",
              "        vertical-align: top;\n",
              "    }\n",
              "\n",
              "    .dataframe thead th {\n",
              "        text-align: right;\n",
              "    }\n",
              "</style>\n",
              "<table border=\"1\" class=\"dataframe\">\n",
              "  <thead>\n",
              "    <tr style=\"text-align: right;\">\n",
              "      <th></th>\n",
              "      <th>Kilometers_Driven</th>\n",
              "      <th>Mileage</th>\n",
              "      <th>Engine</th>\n",
              "      <th>Power</th>\n",
              "      <th>Seats</th>\n",
              "      <th>Year</th>\n",
              "    </tr>\n",
              "  </thead>\n",
              "  <tbody>\n",
              "    <tr>\n",
              "      <th>0</th>\n",
              "      <td>2.407540</td>\n",
              "      <td>-0.671057</td>\n",
              "      <td>-0.568704</td>\n",
              "      <td>-0.654590</td>\n",
              "      <td>-0.308149</td>\n",
              "      <td>-0.334681</td>\n",
              "    </tr>\n",
              "    <tr>\n",
              "      <th>1</th>\n",
              "      <td>1.305691</td>\n",
              "      <td>-0.063766</td>\n",
              "      <td>-0.411098</td>\n",
              "      <td>-0.236739</td>\n",
              "      <td>-0.308149</td>\n",
              "      <td>0.523475</td>\n",
              "    </tr>\n",
              "    <tr>\n",
              "      <th>2</th>\n",
              "      <td>-0.898007</td>\n",
              "      <td>-2.189286</td>\n",
              "      <td>4.928417</td>\n",
              "      <td>3.093011</td>\n",
              "      <td>-1.647929</td>\n",
              "      <td>-1.192836</td>\n",
              "    </tr>\n",
              "    <tr>\n",
              "      <th>3</th>\n",
              "      <td>0.203842</td>\n",
              "      <td>1.758109</td>\n",
              "      <td>-0.966700</td>\n",
              "      <td>-1.098556</td>\n",
              "      <td>-0.308149</td>\n",
              "      <td>1.381631</td>\n",
              "    </tr>\n",
              "    <tr>\n",
              "      <th>4</th>\n",
              "      <td>3.509389</td>\n",
              "      <td>0.239880</td>\n",
              "      <td>0.228880</td>\n",
              "      <td>0.468385</td>\n",
              "      <td>-0.308149</td>\n",
              "      <td>-2.050992</td>\n",
              "    </tr>\n",
              "  </tbody>\n",
              "</table>\n",
              "</div>\n",
              "    <div class=\"colab-df-buttons\">\n",
              "\n",
              "  <div class=\"colab-df-container\">\n",
              "    <button class=\"colab-df-convert\" onclick=\"convertToInteractive('df-86dc504a-ad66-4a42-84b9-3395ae845923')\"\n",
              "            title=\"Convert this dataframe to an interactive table.\"\n",
              "            style=\"display:none;\">\n",
              "\n",
              "  <svg xmlns=\"http://www.w3.org/2000/svg\" height=\"24px\" viewBox=\"0 -960 960 960\">\n",
              "    <path d=\"M120-120v-720h720v720H120Zm60-500h600v-160H180v160Zm220 220h160v-160H400v160Zm0 220h160v-160H400v160ZM180-400h160v-160H180v160Zm440 0h160v-160H620v160ZM180-180h160v-160H180v160Zm440 0h160v-160H620v160Z\"/>\n",
              "  </svg>\n",
              "    </button>\n",
              "\n",
              "  <style>\n",
              "    .colab-df-container {\n",
              "      display:flex;\n",
              "      gap: 12px;\n",
              "    }\n",
              "\n",
              "    .colab-df-convert {\n",
              "      background-color: #E8F0FE;\n",
              "      border: none;\n",
              "      border-radius: 50%;\n",
              "      cursor: pointer;\n",
              "      display: none;\n",
              "      fill: #1967D2;\n",
              "      height: 32px;\n",
              "      padding: 0 0 0 0;\n",
              "      width: 32px;\n",
              "    }\n",
              "\n",
              "    .colab-df-convert:hover {\n",
              "      background-color: #E2EBFA;\n",
              "      box-shadow: 0px 1px 2px rgba(60, 64, 67, 0.3), 0px 1px 3px 1px rgba(60, 64, 67, 0.15);\n",
              "      fill: #174EA6;\n",
              "    }\n",
              "\n",
              "    .colab-df-buttons div {\n",
              "      margin-bottom: 4px;\n",
              "    }\n",
              "\n",
              "    [theme=dark] .colab-df-convert {\n",
              "      background-color: #3B4455;\n",
              "      fill: #D2E3FC;\n",
              "    }\n",
              "\n",
              "    [theme=dark] .colab-df-convert:hover {\n",
              "      background-color: #434B5C;\n",
              "      box-shadow: 0px 1px 3px 1px rgba(0, 0, 0, 0.15);\n",
              "      filter: drop-shadow(0px 1px 2px rgba(0, 0, 0, 0.3));\n",
              "      fill: #FFFFFF;\n",
              "    }\n",
              "  </style>\n",
              "\n",
              "    <script>\n",
              "      const buttonEl =\n",
              "        document.querySelector('#df-86dc504a-ad66-4a42-84b9-3395ae845923 button.colab-df-convert');\n",
              "      buttonEl.style.display =\n",
              "        google.colab.kernel.accessAllowed ? 'block' : 'none';\n",
              "\n",
              "      async function convertToInteractive(key) {\n",
              "        const element = document.querySelector('#df-86dc504a-ad66-4a42-84b9-3395ae845923');\n",
              "        const dataTable =\n",
              "          await google.colab.kernel.invokeFunction('convertToInteractive',\n",
              "                                                    [key], {});\n",
              "        if (!dataTable) return;\n",
              "\n",
              "        const docLinkHtml = 'Like what you see? Visit the ' +\n",
              "          '<a target=\"_blank\" href=https://colab.research.google.com/notebooks/data_table.ipynb>data table notebook</a>'\n",
              "          + ' to learn more about interactive tables.';\n",
              "        element.innerHTML = '';\n",
              "        dataTable['output_type'] = 'display_data';\n",
              "        await google.colab.output.renderOutput(dataTable, element);\n",
              "        const docLink = document.createElement('div');\n",
              "        docLink.innerHTML = docLinkHtml;\n",
              "        element.appendChild(docLink);\n",
              "      }\n",
              "    </script>\n",
              "  </div>\n",
              "\n",
              "\n",
              "<div id=\"df-dbe51b40-9884-4550-85d4-a1d42b5d8bcf\">\n",
              "  <button class=\"colab-df-quickchart\" onclick=\"quickchart('df-dbe51b40-9884-4550-85d4-a1d42b5d8bcf')\"\n",
              "            title=\"Suggest charts\"\n",
              "            style=\"display:none;\">\n",
              "\n",
              "<svg xmlns=\"http://www.w3.org/2000/svg\" height=\"24px\"viewBox=\"0 0 24 24\"\n",
              "     width=\"24px\">\n",
              "    <g>\n",
              "        <path d=\"M19 3H5c-1.1 0-2 .9-2 2v14c0 1.1.9 2 2 2h14c1.1 0 2-.9 2-2V5c0-1.1-.9-2-2-2zM9 17H7v-7h2v7zm4 0h-2V7h2v10zm4 0h-2v-4h2v4z\"/>\n",
              "    </g>\n",
              "</svg>\n",
              "  </button>\n",
              "\n",
              "<style>\n",
              "  .colab-df-quickchart {\n",
              "      --bg-color: #E8F0FE;\n",
              "      --fill-color: #1967D2;\n",
              "      --hover-bg-color: #E2EBFA;\n",
              "      --hover-fill-color: #174EA6;\n",
              "      --disabled-fill-color: #AAA;\n",
              "      --disabled-bg-color: #DDD;\n",
              "  }\n",
              "\n",
              "  [theme=dark] .colab-df-quickchart {\n",
              "      --bg-color: #3B4455;\n",
              "      --fill-color: #D2E3FC;\n",
              "      --hover-bg-color: #434B5C;\n",
              "      --hover-fill-color: #FFFFFF;\n",
              "      --disabled-bg-color: #3B4455;\n",
              "      --disabled-fill-color: #666;\n",
              "  }\n",
              "\n",
              "  .colab-df-quickchart {\n",
              "    background-color: var(--bg-color);\n",
              "    border: none;\n",
              "    border-radius: 50%;\n",
              "    cursor: pointer;\n",
              "    display: none;\n",
              "    fill: var(--fill-color);\n",
              "    height: 32px;\n",
              "    padding: 0;\n",
              "    width: 32px;\n",
              "  }\n",
              "\n",
              "  .colab-df-quickchart:hover {\n",
              "    background-color: var(--hover-bg-color);\n",
              "    box-shadow: 0 1px 2px rgba(60, 64, 67, 0.3), 0 1px 3px 1px rgba(60, 64, 67, 0.15);\n",
              "    fill: var(--button-hover-fill-color);\n",
              "  }\n",
              "\n",
              "  .colab-df-quickchart-complete:disabled,\n",
              "  .colab-df-quickchart-complete:disabled:hover {\n",
              "    background-color: var(--disabled-bg-color);\n",
              "    fill: var(--disabled-fill-color);\n",
              "    box-shadow: none;\n",
              "  }\n",
              "\n",
              "  .colab-df-spinner {\n",
              "    border: 2px solid var(--fill-color);\n",
              "    border-color: transparent;\n",
              "    border-bottom-color: var(--fill-color);\n",
              "    animation:\n",
              "      spin 1s steps(1) infinite;\n",
              "  }\n",
              "\n",
              "  @keyframes spin {\n",
              "    0% {\n",
              "      border-color: transparent;\n",
              "      border-bottom-color: var(--fill-color);\n",
              "      border-left-color: var(--fill-color);\n",
              "    }\n",
              "    20% {\n",
              "      border-color: transparent;\n",
              "      border-left-color: var(--fill-color);\n",
              "      border-top-color: var(--fill-color);\n",
              "    }\n",
              "    30% {\n",
              "      border-color: transparent;\n",
              "      border-left-color: var(--fill-color);\n",
              "      border-top-color: var(--fill-color);\n",
              "      border-right-color: var(--fill-color);\n",
              "    }\n",
              "    40% {\n",
              "      border-color: transparent;\n",
              "      border-right-color: var(--fill-color);\n",
              "      border-top-color: var(--fill-color);\n",
              "    }\n",
              "    60% {\n",
              "      border-color: transparent;\n",
              "      border-right-color: var(--fill-color);\n",
              "    }\n",
              "    80% {\n",
              "      border-color: transparent;\n",
              "      border-right-color: var(--fill-color);\n",
              "      border-bottom-color: var(--fill-color);\n",
              "    }\n",
              "    90% {\n",
              "      border-color: transparent;\n",
              "      border-bottom-color: var(--fill-color);\n",
              "    }\n",
              "  }\n",
              "</style>\n",
              "\n",
              "  <script>\n",
              "    async function quickchart(key) {\n",
              "      const quickchartButtonEl =\n",
              "        document.querySelector('#' + key + ' button');\n",
              "      quickchartButtonEl.disabled = true;  // To prevent multiple clicks.\n",
              "      quickchartButtonEl.classList.add('colab-df-spinner');\n",
              "      try {\n",
              "        const charts = await google.colab.kernel.invokeFunction(\n",
              "            'suggestCharts', [key], {});\n",
              "      } catch (error) {\n",
              "        console.error('Error during call to suggestCharts:', error);\n",
              "      }\n",
              "      quickchartButtonEl.classList.remove('colab-df-spinner');\n",
              "      quickchartButtonEl.classList.add('colab-df-quickchart-complete');\n",
              "    }\n",
              "    (() => {\n",
              "      let quickchartButtonEl =\n",
              "        document.querySelector('#df-dbe51b40-9884-4550-85d4-a1d42b5d8bcf button');\n",
              "      quickchartButtonEl.style.display =\n",
              "        google.colab.kernel.accessAllowed ? 'block' : 'none';\n",
              "    })();\n",
              "  </script>\n",
              "</div>\n",
              "    </div>\n",
              "  </div>\n"
            ],
            "application/vnd.google.colaboratory.intrinsic+json": {
              "type": "dataframe",
              "variable_name": "numeric_transformed_df",
              "summary": "{\n  \"name\": \"numeric_transformed_df\",\n  \"rows\": 100,\n  \"fields\": [\n    {\n      \"column\": \"Kilometers_Driven\",\n      \"properties\": {\n        \"dtype\": \"number\",\n        \"std\": 1.005037815259212,\n        \"min\": -1.9998558238621016,\n        \"max\": 3.5093888699728892,\n        \"num_unique_values\": 18,\n        \"samples\": [\n          2.407539931205891,\n          1.3056909924388929,\n          -0.01652773408150497\n        ],\n        \"semantic_type\": \"\",\n        \"description\": \"\"\n      }\n    },\n    {\n      \"column\": \"Mileage\",\n      \"properties\": {\n        \"dtype\": \"number\",\n        \"std\": 1.0050378152592119,\n        \"min\": -2.1892858332431437,\n        \"max\": 2.3654003662918286,\n        \"num_unique_values\": 15,\n        \"samples\": [\n          2.3654003662918286,\n          2.061754619656164,\n          -0.6710571000648196\n        ],\n        \"semantic_type\": \"\",\n        \"description\": \"\"\n      }\n    },\n    {\n      \"column\": \"Engine\",\n      \"properties\": {\n        \"dtype\": \"number\",\n        \"std\": 1.005037815259212,\n        \"min\": -1.3631045247571043,\n        \"max\": 4.9284165406576514,\n        \"num_unique_values\": 36,\n        \"samples\": [\n          0.22728756642440903,\n          0.1604242352636247,\n          -0.5718884393544895\n        ],\n        \"semantic_type\": \"\",\n        \"description\": \"\"\n      }\n    },\n    {\n      \"column\": \"Power\",\n      \"properties\": {\n        \"dtype\": \"number\",\n        \"std\": 1.005037815259212,\n        \"min\": -1.1769033573757237,\n        \"max\": 3.1060690293904742,\n        \"num_unique_values\": 40,\n        \"samples\": [\n          -0.4195484841060912,\n          1.082103419790594,\n          -0.13227594596933404\n        ],\n        \"semantic_type\": \"\",\n        \"description\": \"\"\n      }\n    },\n    {\n      \"column\": \"Seats\",\n      \"properties\": {\n        \"dtype\": \"number\",\n        \"std\": 1.005037815259212,\n        \"min\": -1.6479291356691892,\n        \"max\": 2.3714102196215148,\n        \"num_unique_values\": 3,\n        \"samples\": [\n          -0.3081493505722879,\n          -1.6479291356691892,\n          2.3714102196215148\n        ],\n        \"semantic_type\": \"\",\n        \"description\": \"\"\n      }\n    },\n    {\n      \"column\": \"Year\",\n      \"properties\": {\n        \"dtype\": \"number\",\n        \"std\": 1.0050378152592119,\n        \"min\": -2.0509921908157773,\n        \"max\": 2.239786451058054,\n        \"num_unique_values\": 6,\n        \"samples\": [\n          -0.3346807340662447,\n          0.5234749943085216,\n          2.239786451058054\n        ],\n        \"semantic_type\": \"\",\n        \"description\": \"\"\n      }\n    }\n  ]\n}"
            }
          },
          "metadata": {},
          "execution_count": 157
        }
      ]
    },
    {
      "cell_type": "code",
      "source": [
        "ohe = OneHotEncoder(handle_unknown='ignore', sparse_output=False).set_output(transform='pandas')\n",
        "cat_transformed = ohe.fit_transform(df[cat])"
      ],
      "metadata": {
        "id": "XWY1wlBvID2X"
      },
      "execution_count": 158,
      "outputs": []
    },
    {
      "cell_type": "code",
      "source": [
        "cat_transformed"
      ],
      "metadata": {
        "colab": {
          "base_uri": "https://localhost:8080/",
          "height": 444
        },
        "id": "wTvmzRlyL-Mw",
        "outputId": "a7b50301-77c4-4a17-dd41-25525da12462"
      },
      "execution_count": 159,
      "outputs": [
        {
          "output_type": "execute_result",
          "data": {
            "text/plain": [
              "    Brand_Audi  Brand_BMW  Brand_Ford  Brand_Honda  Brand_Hyundai  \\\n",
              "0          0.0        0.0         0.0          0.0            0.0   \n",
              "1          0.0        0.0         0.0          1.0            0.0   \n",
              "2          0.0        0.0         1.0          0.0            0.0   \n",
              "3          0.0        0.0         0.0          0.0            0.0   \n",
              "4          0.0        0.0         0.0          0.0            1.0   \n",
              "..         ...        ...         ...          ...            ...   \n",
              "95         0.0        0.0         0.0          0.0            0.0   \n",
              "96         0.0        0.0         0.0          0.0            0.0   \n",
              "97         0.0        0.0         1.0          0.0            0.0   \n",
              "98         0.0        0.0         0.0          0.0            1.0   \n",
              "99         0.0        0.0         0.0          0.0            0.0   \n",
              "\n",
              "    Brand_Mahindra  Brand_Maruti  Brand_Mercedes  Brand_Tata  Brand_Toyota  \\\n",
              "0              0.0           0.0             0.0         0.0           1.0   \n",
              "1              0.0           0.0             0.0         0.0           0.0   \n",
              "2              0.0           0.0             0.0         0.0           0.0   \n",
              "3              0.0           1.0             0.0         0.0           0.0   \n",
              "4              0.0           0.0             0.0         0.0           0.0   \n",
              "..             ...           ...             ...         ...           ...   \n",
              "95             0.0           0.0             1.0         0.0           0.0   \n",
              "96             0.0           0.0             0.0         0.0           1.0   \n",
              "97             0.0           0.0             0.0         0.0           0.0   \n",
              "98             0.0           0.0             0.0         0.0           0.0   \n",
              "99             0.0           0.0             0.0         1.0           0.0   \n",
              "\n",
              "    Brand_Volkswagen  Fuel_Type_Diesel  Fuel_Type_Petrol  \\\n",
              "0                0.0               0.0               1.0   \n",
              "1                0.0               0.0               1.0   \n",
              "2                0.0               0.0               1.0   \n",
              "3                0.0               1.0               0.0   \n",
              "4                0.0               1.0               0.0   \n",
              "..               ...               ...               ...   \n",
              "95               0.0               1.0               0.0   \n",
              "96               0.0               1.0               0.0   \n",
              "97               0.0               0.0               1.0   \n",
              "98               0.0               0.0               1.0   \n",
              "99               0.0               0.0               1.0   \n",
              "\n",
              "    Transmission_Automatic  Transmission_Manual  Owner_Type_First  \\\n",
              "0                      0.0                  1.0               1.0   \n",
              "1                      1.0                  0.0               0.0   \n",
              "2                      1.0                  0.0               1.0   \n",
              "3                      0.0                  1.0               0.0   \n",
              "4                      1.0                  0.0               0.0   \n",
              "..                     ...                  ...               ...   \n",
              "95                     1.0                  0.0               1.0   \n",
              "96                     0.0                  1.0               0.0   \n",
              "97                     0.0                  1.0               0.0   \n",
              "98                     1.0                  0.0               0.0   \n",
              "99                     0.0                  1.0               1.0   \n",
              "\n",
              "    Owner_Type_Second  Owner_Type_Third  \n",
              "0                 0.0               0.0  \n",
              "1                 1.0               0.0  \n",
              "2                 0.0               0.0  \n",
              "3                 0.0               1.0  \n",
              "4                 1.0               0.0  \n",
              "..                ...               ...  \n",
              "95                0.0               0.0  \n",
              "96                1.0               0.0  \n",
              "97                0.0               1.0  \n",
              "98                1.0               0.0  \n",
              "99                0.0               0.0  \n",
              "\n",
              "[100 rows x 18 columns]"
            ],
            "text/html": [
              "\n",
              "  <div id=\"df-29e05cc7-f436-48b8-823a-f3e709267197\" class=\"colab-df-container\">\n",
              "    <div>\n",
              "<style scoped>\n",
              "    .dataframe tbody tr th:only-of-type {\n",
              "        vertical-align: middle;\n",
              "    }\n",
              "\n",
              "    .dataframe tbody tr th {\n",
              "        vertical-align: top;\n",
              "    }\n",
              "\n",
              "    .dataframe thead th {\n",
              "        text-align: right;\n",
              "    }\n",
              "</style>\n",
              "<table border=\"1\" class=\"dataframe\">\n",
              "  <thead>\n",
              "    <tr style=\"text-align: right;\">\n",
              "      <th></th>\n",
              "      <th>Brand_Audi</th>\n",
              "      <th>Brand_BMW</th>\n",
              "      <th>Brand_Ford</th>\n",
              "      <th>Brand_Honda</th>\n",
              "      <th>Brand_Hyundai</th>\n",
              "      <th>Brand_Mahindra</th>\n",
              "      <th>Brand_Maruti</th>\n",
              "      <th>Brand_Mercedes</th>\n",
              "      <th>Brand_Tata</th>\n",
              "      <th>Brand_Toyota</th>\n",
              "      <th>Brand_Volkswagen</th>\n",
              "      <th>Fuel_Type_Diesel</th>\n",
              "      <th>Fuel_Type_Petrol</th>\n",
              "      <th>Transmission_Automatic</th>\n",
              "      <th>Transmission_Manual</th>\n",
              "      <th>Owner_Type_First</th>\n",
              "      <th>Owner_Type_Second</th>\n",
              "      <th>Owner_Type_Third</th>\n",
              "    </tr>\n",
              "  </thead>\n",
              "  <tbody>\n",
              "    <tr>\n",
              "      <th>0</th>\n",
              "      <td>0.0</td>\n",
              "      <td>0.0</td>\n",
              "      <td>0.0</td>\n",
              "      <td>0.0</td>\n",
              "      <td>0.0</td>\n",
              "      <td>0.0</td>\n",
              "      <td>0.0</td>\n",
              "      <td>0.0</td>\n",
              "      <td>0.0</td>\n",
              "      <td>1.0</td>\n",
              "      <td>0.0</td>\n",
              "      <td>0.0</td>\n",
              "      <td>1.0</td>\n",
              "      <td>0.0</td>\n",
              "      <td>1.0</td>\n",
              "      <td>1.0</td>\n",
              "      <td>0.0</td>\n",
              "      <td>0.0</td>\n",
              "    </tr>\n",
              "    <tr>\n",
              "      <th>1</th>\n",
              "      <td>0.0</td>\n",
              "      <td>0.0</td>\n",
              "      <td>0.0</td>\n",
              "      <td>1.0</td>\n",
              "      <td>0.0</td>\n",
              "      <td>0.0</td>\n",
              "      <td>0.0</td>\n",
              "      <td>0.0</td>\n",
              "      <td>0.0</td>\n",
              "      <td>0.0</td>\n",
              "      <td>0.0</td>\n",
              "      <td>0.0</td>\n",
              "      <td>1.0</td>\n",
              "      <td>1.0</td>\n",
              "      <td>0.0</td>\n",
              "      <td>0.0</td>\n",
              "      <td>1.0</td>\n",
              "      <td>0.0</td>\n",
              "    </tr>\n",
              "    <tr>\n",
              "      <th>2</th>\n",
              "      <td>0.0</td>\n",
              "      <td>0.0</td>\n",
              "      <td>1.0</td>\n",
              "      <td>0.0</td>\n",
              "      <td>0.0</td>\n",
              "      <td>0.0</td>\n",
              "      <td>0.0</td>\n",
              "      <td>0.0</td>\n",
              "      <td>0.0</td>\n",
              "      <td>0.0</td>\n",
              "      <td>0.0</td>\n",
              "      <td>0.0</td>\n",
              "      <td>1.0</td>\n",
              "      <td>1.0</td>\n",
              "      <td>0.0</td>\n",
              "      <td>1.0</td>\n",
              "      <td>0.0</td>\n",
              "      <td>0.0</td>\n",
              "    </tr>\n",
              "    <tr>\n",
              "      <th>3</th>\n",
              "      <td>0.0</td>\n",
              "      <td>0.0</td>\n",
              "      <td>0.0</td>\n",
              "      <td>0.0</td>\n",
              "      <td>0.0</td>\n",
              "      <td>0.0</td>\n",
              "      <td>1.0</td>\n",
              "      <td>0.0</td>\n",
              "      <td>0.0</td>\n",
              "      <td>0.0</td>\n",
              "      <td>0.0</td>\n",
              "      <td>1.0</td>\n",
              "      <td>0.0</td>\n",
              "      <td>0.0</td>\n",
              "      <td>1.0</td>\n",
              "      <td>0.0</td>\n",
              "      <td>0.0</td>\n",
              "      <td>1.0</td>\n",
              "    </tr>\n",
              "    <tr>\n",
              "      <th>4</th>\n",
              "      <td>0.0</td>\n",
              "      <td>0.0</td>\n",
              "      <td>0.0</td>\n",
              "      <td>0.0</td>\n",
              "      <td>1.0</td>\n",
              "      <td>0.0</td>\n",
              "      <td>0.0</td>\n",
              "      <td>0.0</td>\n",
              "      <td>0.0</td>\n",
              "      <td>0.0</td>\n",
              "      <td>0.0</td>\n",
              "      <td>1.0</td>\n",
              "      <td>0.0</td>\n",
              "      <td>1.0</td>\n",
              "      <td>0.0</td>\n",
              "      <td>0.0</td>\n",
              "      <td>1.0</td>\n",
              "      <td>0.0</td>\n",
              "    </tr>\n",
              "    <tr>\n",
              "      <th>...</th>\n",
              "      <td>...</td>\n",
              "      <td>...</td>\n",
              "      <td>...</td>\n",
              "      <td>...</td>\n",
              "      <td>...</td>\n",
              "      <td>...</td>\n",
              "      <td>...</td>\n",
              "      <td>...</td>\n",
              "      <td>...</td>\n",
              "      <td>...</td>\n",
              "      <td>...</td>\n",
              "      <td>...</td>\n",
              "      <td>...</td>\n",
              "      <td>...</td>\n",
              "      <td>...</td>\n",
              "      <td>...</td>\n",
              "      <td>...</td>\n",
              "      <td>...</td>\n",
              "    </tr>\n",
              "    <tr>\n",
              "      <th>95</th>\n",
              "      <td>0.0</td>\n",
              "      <td>0.0</td>\n",
              "      <td>0.0</td>\n",
              "      <td>0.0</td>\n",
              "      <td>0.0</td>\n",
              "      <td>0.0</td>\n",
              "      <td>0.0</td>\n",
              "      <td>1.0</td>\n",
              "      <td>0.0</td>\n",
              "      <td>0.0</td>\n",
              "      <td>0.0</td>\n",
              "      <td>1.0</td>\n",
              "      <td>0.0</td>\n",
              "      <td>1.0</td>\n",
              "      <td>0.0</td>\n",
              "      <td>1.0</td>\n",
              "      <td>0.0</td>\n",
              "      <td>0.0</td>\n",
              "    </tr>\n",
              "    <tr>\n",
              "      <th>96</th>\n",
              "      <td>0.0</td>\n",
              "      <td>0.0</td>\n",
              "      <td>0.0</td>\n",
              "      <td>0.0</td>\n",
              "      <td>0.0</td>\n",
              "      <td>0.0</td>\n",
              "      <td>0.0</td>\n",
              "      <td>0.0</td>\n",
              "      <td>0.0</td>\n",
              "      <td>1.0</td>\n",
              "      <td>0.0</td>\n",
              "      <td>1.0</td>\n",
              "      <td>0.0</td>\n",
              "      <td>0.0</td>\n",
              "      <td>1.0</td>\n",
              "      <td>0.0</td>\n",
              "      <td>1.0</td>\n",
              "      <td>0.0</td>\n",
              "    </tr>\n",
              "    <tr>\n",
              "      <th>97</th>\n",
              "      <td>0.0</td>\n",
              "      <td>0.0</td>\n",
              "      <td>1.0</td>\n",
              "      <td>0.0</td>\n",
              "      <td>0.0</td>\n",
              "      <td>0.0</td>\n",
              "      <td>0.0</td>\n",
              "      <td>0.0</td>\n",
              "      <td>0.0</td>\n",
              "      <td>0.0</td>\n",
              "      <td>0.0</td>\n",
              "      <td>0.0</td>\n",
              "      <td>1.0</td>\n",
              "      <td>0.0</td>\n",
              "      <td>1.0</td>\n",
              "      <td>0.0</td>\n",
              "      <td>0.0</td>\n",
              "      <td>1.0</td>\n",
              "    </tr>\n",
              "    <tr>\n",
              "      <th>98</th>\n",
              "      <td>0.0</td>\n",
              "      <td>0.0</td>\n",
              "      <td>0.0</td>\n",
              "      <td>0.0</td>\n",
              "      <td>1.0</td>\n",
              "      <td>0.0</td>\n",
              "      <td>0.0</td>\n",
              "      <td>0.0</td>\n",
              "      <td>0.0</td>\n",
              "      <td>0.0</td>\n",
              "      <td>0.0</td>\n",
              "      <td>0.0</td>\n",
              "      <td>1.0</td>\n",
              "      <td>1.0</td>\n",
              "      <td>0.0</td>\n",
              "      <td>0.0</td>\n",
              "      <td>1.0</td>\n",
              "      <td>0.0</td>\n",
              "    </tr>\n",
              "    <tr>\n",
              "      <th>99</th>\n",
              "      <td>0.0</td>\n",
              "      <td>0.0</td>\n",
              "      <td>0.0</td>\n",
              "      <td>0.0</td>\n",
              "      <td>0.0</td>\n",
              "      <td>0.0</td>\n",
              "      <td>0.0</td>\n",
              "      <td>0.0</td>\n",
              "      <td>1.0</td>\n",
              "      <td>0.0</td>\n",
              "      <td>0.0</td>\n",
              "      <td>0.0</td>\n",
              "      <td>1.0</td>\n",
              "      <td>0.0</td>\n",
              "      <td>1.0</td>\n",
              "      <td>1.0</td>\n",
              "      <td>0.0</td>\n",
              "      <td>0.0</td>\n",
              "    </tr>\n",
              "  </tbody>\n",
              "</table>\n",
              "<p>100 rows × 18 columns</p>\n",
              "</div>\n",
              "    <div class=\"colab-df-buttons\">\n",
              "\n",
              "  <div class=\"colab-df-container\">\n",
              "    <button class=\"colab-df-convert\" onclick=\"convertToInteractive('df-29e05cc7-f436-48b8-823a-f3e709267197')\"\n",
              "            title=\"Convert this dataframe to an interactive table.\"\n",
              "            style=\"display:none;\">\n",
              "\n",
              "  <svg xmlns=\"http://www.w3.org/2000/svg\" height=\"24px\" viewBox=\"0 -960 960 960\">\n",
              "    <path d=\"M120-120v-720h720v720H120Zm60-500h600v-160H180v160Zm220 220h160v-160H400v160Zm0 220h160v-160H400v160ZM180-400h160v-160H180v160Zm440 0h160v-160H620v160ZM180-180h160v-160H180v160Zm440 0h160v-160H620v160Z\"/>\n",
              "  </svg>\n",
              "    </button>\n",
              "\n",
              "  <style>\n",
              "    .colab-df-container {\n",
              "      display:flex;\n",
              "      gap: 12px;\n",
              "    }\n",
              "\n",
              "    .colab-df-convert {\n",
              "      background-color: #E8F0FE;\n",
              "      border: none;\n",
              "      border-radius: 50%;\n",
              "      cursor: pointer;\n",
              "      display: none;\n",
              "      fill: #1967D2;\n",
              "      height: 32px;\n",
              "      padding: 0 0 0 0;\n",
              "      width: 32px;\n",
              "    }\n",
              "\n",
              "    .colab-df-convert:hover {\n",
              "      background-color: #E2EBFA;\n",
              "      box-shadow: 0px 1px 2px rgba(60, 64, 67, 0.3), 0px 1px 3px 1px rgba(60, 64, 67, 0.15);\n",
              "      fill: #174EA6;\n",
              "    }\n",
              "\n",
              "    .colab-df-buttons div {\n",
              "      margin-bottom: 4px;\n",
              "    }\n",
              "\n",
              "    [theme=dark] .colab-df-convert {\n",
              "      background-color: #3B4455;\n",
              "      fill: #D2E3FC;\n",
              "    }\n",
              "\n",
              "    [theme=dark] .colab-df-convert:hover {\n",
              "      background-color: #434B5C;\n",
              "      box-shadow: 0px 1px 3px 1px rgba(0, 0, 0, 0.15);\n",
              "      filter: drop-shadow(0px 1px 2px rgba(0, 0, 0, 0.3));\n",
              "      fill: #FFFFFF;\n",
              "    }\n",
              "  </style>\n",
              "\n",
              "    <script>\n",
              "      const buttonEl =\n",
              "        document.querySelector('#df-29e05cc7-f436-48b8-823a-f3e709267197 button.colab-df-convert');\n",
              "      buttonEl.style.display =\n",
              "        google.colab.kernel.accessAllowed ? 'block' : 'none';\n",
              "\n",
              "      async function convertToInteractive(key) {\n",
              "        const element = document.querySelector('#df-29e05cc7-f436-48b8-823a-f3e709267197');\n",
              "        const dataTable =\n",
              "          await google.colab.kernel.invokeFunction('convertToInteractive',\n",
              "                                                    [key], {});\n",
              "        if (!dataTable) return;\n",
              "\n",
              "        const docLinkHtml = 'Like what you see? Visit the ' +\n",
              "          '<a target=\"_blank\" href=https://colab.research.google.com/notebooks/data_table.ipynb>data table notebook</a>'\n",
              "          + ' to learn more about interactive tables.';\n",
              "        element.innerHTML = '';\n",
              "        dataTable['output_type'] = 'display_data';\n",
              "        await google.colab.output.renderOutput(dataTable, element);\n",
              "        const docLink = document.createElement('div');\n",
              "        docLink.innerHTML = docLinkHtml;\n",
              "        element.appendChild(docLink);\n",
              "      }\n",
              "    </script>\n",
              "  </div>\n",
              "\n",
              "\n",
              "<div id=\"df-8c5cf749-5194-444b-b0ba-94e4d79fe743\">\n",
              "  <button class=\"colab-df-quickchart\" onclick=\"quickchart('df-8c5cf749-5194-444b-b0ba-94e4d79fe743')\"\n",
              "            title=\"Suggest charts\"\n",
              "            style=\"display:none;\">\n",
              "\n",
              "<svg xmlns=\"http://www.w3.org/2000/svg\" height=\"24px\"viewBox=\"0 0 24 24\"\n",
              "     width=\"24px\">\n",
              "    <g>\n",
              "        <path d=\"M19 3H5c-1.1 0-2 .9-2 2v14c0 1.1.9 2 2 2h14c1.1 0 2-.9 2-2V5c0-1.1-.9-2-2-2zM9 17H7v-7h2v7zm4 0h-2V7h2v10zm4 0h-2v-4h2v4z\"/>\n",
              "    </g>\n",
              "</svg>\n",
              "  </button>\n",
              "\n",
              "<style>\n",
              "  .colab-df-quickchart {\n",
              "      --bg-color: #E8F0FE;\n",
              "      --fill-color: #1967D2;\n",
              "      --hover-bg-color: #E2EBFA;\n",
              "      --hover-fill-color: #174EA6;\n",
              "      --disabled-fill-color: #AAA;\n",
              "      --disabled-bg-color: #DDD;\n",
              "  }\n",
              "\n",
              "  [theme=dark] .colab-df-quickchart {\n",
              "      --bg-color: #3B4455;\n",
              "      --fill-color: #D2E3FC;\n",
              "      --hover-bg-color: #434B5C;\n",
              "      --hover-fill-color: #FFFFFF;\n",
              "      --disabled-bg-color: #3B4455;\n",
              "      --disabled-fill-color: #666;\n",
              "  }\n",
              "\n",
              "  .colab-df-quickchart {\n",
              "    background-color: var(--bg-color);\n",
              "    border: none;\n",
              "    border-radius: 50%;\n",
              "    cursor: pointer;\n",
              "    display: none;\n",
              "    fill: var(--fill-color);\n",
              "    height: 32px;\n",
              "    padding: 0;\n",
              "    width: 32px;\n",
              "  }\n",
              "\n",
              "  .colab-df-quickchart:hover {\n",
              "    background-color: var(--hover-bg-color);\n",
              "    box-shadow: 0 1px 2px rgba(60, 64, 67, 0.3), 0 1px 3px 1px rgba(60, 64, 67, 0.15);\n",
              "    fill: var(--button-hover-fill-color);\n",
              "  }\n",
              "\n",
              "  .colab-df-quickchart-complete:disabled,\n",
              "  .colab-df-quickchart-complete:disabled:hover {\n",
              "    background-color: var(--disabled-bg-color);\n",
              "    fill: var(--disabled-fill-color);\n",
              "    box-shadow: none;\n",
              "  }\n",
              "\n",
              "  .colab-df-spinner {\n",
              "    border: 2px solid var(--fill-color);\n",
              "    border-color: transparent;\n",
              "    border-bottom-color: var(--fill-color);\n",
              "    animation:\n",
              "      spin 1s steps(1) infinite;\n",
              "  }\n",
              "\n",
              "  @keyframes spin {\n",
              "    0% {\n",
              "      border-color: transparent;\n",
              "      border-bottom-color: var(--fill-color);\n",
              "      border-left-color: var(--fill-color);\n",
              "    }\n",
              "    20% {\n",
              "      border-color: transparent;\n",
              "      border-left-color: var(--fill-color);\n",
              "      border-top-color: var(--fill-color);\n",
              "    }\n",
              "    30% {\n",
              "      border-color: transparent;\n",
              "      border-left-color: var(--fill-color);\n",
              "      border-top-color: var(--fill-color);\n",
              "      border-right-color: var(--fill-color);\n",
              "    }\n",
              "    40% {\n",
              "      border-color: transparent;\n",
              "      border-right-color: var(--fill-color);\n",
              "      border-top-color: var(--fill-color);\n",
              "    }\n",
              "    60% {\n",
              "      border-color: transparent;\n",
              "      border-right-color: var(--fill-color);\n",
              "    }\n",
              "    80% {\n",
              "      border-color: transparent;\n",
              "      border-right-color: var(--fill-color);\n",
              "      border-bottom-color: var(--fill-color);\n",
              "    }\n",
              "    90% {\n",
              "      border-color: transparent;\n",
              "      border-bottom-color: var(--fill-color);\n",
              "    }\n",
              "  }\n",
              "</style>\n",
              "\n",
              "  <script>\n",
              "    async function quickchart(key) {\n",
              "      const quickchartButtonEl =\n",
              "        document.querySelector('#' + key + ' button');\n",
              "      quickchartButtonEl.disabled = true;  // To prevent multiple clicks.\n",
              "      quickchartButtonEl.classList.add('colab-df-spinner');\n",
              "      try {\n",
              "        const charts = await google.colab.kernel.invokeFunction(\n",
              "            'suggestCharts', [key], {});\n",
              "      } catch (error) {\n",
              "        console.error('Error during call to suggestCharts:', error);\n",
              "      }\n",
              "      quickchartButtonEl.classList.remove('colab-df-spinner');\n",
              "      quickchartButtonEl.classList.add('colab-df-quickchart-complete');\n",
              "    }\n",
              "    (() => {\n",
              "      let quickchartButtonEl =\n",
              "        document.querySelector('#df-8c5cf749-5194-444b-b0ba-94e4d79fe743 button');\n",
              "      quickchartButtonEl.style.display =\n",
              "        google.colab.kernel.accessAllowed ? 'block' : 'none';\n",
              "    })();\n",
              "  </script>\n",
              "</div>\n",
              "    </div>\n",
              "  </div>\n"
            ],
            "application/vnd.google.colaboratory.intrinsic+json": {
              "type": "dataframe",
              "variable_name": "cat_transformed",
              "summary": "{\n  \"name\": \"cat_transformed\",\n  \"rows\": 100,\n  \"fields\": [\n    {\n      \"column\": \"Brand_Audi\",\n      \"properties\": {\n        \"dtype\": \"number\",\n        \"std\": 0.30151134457776363,\n        \"min\": 0.0,\n        \"max\": 1.0,\n        \"num_unique_values\": 2,\n        \"samples\": [\n          1.0,\n          0.0\n        ],\n        \"semantic_type\": \"\",\n        \"description\": \"\"\n      }\n    },\n    {\n      \"column\": \"Brand_BMW\",\n      \"properties\": {\n        \"dtype\": \"number\",\n        \"std\": 0.30151134457776363,\n        \"min\": 0.0,\n        \"max\": 1.0,\n        \"num_unique_values\": 2,\n        \"samples\": [\n          1.0,\n          0.0\n        ],\n        \"semantic_type\": \"\",\n        \"description\": \"\"\n      }\n    },\n    {\n      \"column\": \"Brand_Ford\",\n      \"properties\": {\n        \"dtype\": \"number\",\n        \"std\": 0.31446603773522014,\n        \"min\": 0.0,\n        \"max\": 1.0,\n        \"num_unique_values\": 2,\n        \"samples\": [\n          1.0,\n          0.0\n        ],\n        \"semantic_type\": \"\",\n        \"description\": \"\"\n      }\n    },\n    {\n      \"column\": \"Brand_Honda\",\n      \"properties\": {\n        \"dtype\": \"number\",\n        \"std\": 0.23868325657594203,\n        \"min\": 0.0,\n        \"max\": 1.0,\n        \"num_unique_values\": 2,\n        \"samples\": [\n          1.0,\n          0.0\n        ],\n        \"semantic_type\": \"\",\n        \"description\": \"\"\n      }\n    },\n    {\n      \"column\": \"Brand_Hyundai\",\n      \"properties\": {\n        \"dtype\": \"number\",\n        \"std\": 0.31446603773522014,\n        \"min\": 0.0,\n        \"max\": 1.0,\n        \"num_unique_values\": 2,\n        \"samples\": [\n          1.0,\n          0.0\n        ],\n        \"semantic_type\": \"\",\n        \"description\": \"\"\n      }\n    },\n    {\n      \"column\": \"Brand_Mahindra\",\n      \"properties\": {\n        \"dtype\": \"number\",\n        \"std\": 0.2190429135575903,\n        \"min\": 0.0,\n        \"max\": 1.0,\n        \"num_unique_values\": 2,\n        \"samples\": [\n          1.0,\n          0.0\n        ],\n        \"semantic_type\": \"\",\n        \"description\": \"\"\n      }\n    },\n    {\n      \"column\": \"Brand_Maruti\",\n      \"properties\": {\n        \"dtype\": \"number\",\n        \"std\": 0.238683256575942,\n        \"min\": 0.0,\n        \"max\": 1.0,\n        \"num_unique_values\": 2,\n        \"samples\": [\n          1.0,\n          0.0\n        ],\n        \"semantic_type\": \"\",\n        \"description\": \"\"\n      }\n    },\n    {\n      \"column\": \"Brand_Mercedes\",\n      \"properties\": {\n        \"dtype\": \"number\",\n        \"std\": 0.30151134457776363,\n        \"min\": 0.0,\n        \"max\": 1.0,\n        \"num_unique_values\": 2,\n        \"samples\": [\n          1.0,\n          0.0\n        ],\n        \"semantic_type\": \"\",\n        \"description\": \"\"\n      }\n    },\n    {\n      \"column\": \"Brand_Tata\",\n      \"properties\": {\n        \"dtype\": \"number\",\n        \"std\": 0.31446603773522014,\n        \"min\": 0.0,\n        \"max\": 1.0,\n        \"num_unique_values\": 2,\n        \"samples\": [\n          1.0,\n          0.0\n        ],\n        \"semantic_type\": \"\",\n        \"description\": \"\"\n      }\n    },\n    {\n      \"column\": \"Brand_Toyota\",\n      \"properties\": {\n        \"dtype\": \"number\",\n        \"std\": 0.30151134457776363,\n        \"min\": 0.0,\n        \"max\": 1.0,\n        \"num_unique_values\": 2,\n        \"samples\": [\n          0.0,\n          1.0\n        ],\n        \"semantic_type\": \"\",\n        \"description\": \"\"\n      }\n    },\n    {\n      \"column\": \"Brand_Volkswagen\",\n      \"properties\": {\n        \"dtype\": \"number\",\n        \"std\": 0.30151134457776363,\n        \"min\": 0.0,\n        \"max\": 1.0,\n        \"num_unique_values\": 2,\n        \"samples\": [\n          1.0,\n          0.0\n        ],\n        \"semantic_type\": \"\",\n        \"description\": \"\"\n      }\n    },\n    {\n      \"column\": \"Fuel_Type_Diesel\",\n      \"properties\": {\n        \"dtype\": \"number\",\n        \"std\": 0.5021167315686782,\n        \"min\": 0.0,\n        \"max\": 1.0,\n        \"num_unique_values\": 2,\n        \"samples\": [\n          1.0,\n          0.0\n        ],\n        \"semantic_type\": \"\",\n        \"description\": \"\"\n      }\n    },\n    {\n      \"column\": \"Fuel_Type_Petrol\",\n      \"properties\": {\n        \"dtype\": \"number\",\n        \"std\": 0.5021167315686782,\n        \"min\": 0.0,\n        \"max\": 1.0,\n        \"num_unique_values\": 2,\n        \"samples\": [\n          0.0,\n          1.0\n        ],\n        \"semantic_type\": \"\",\n        \"description\": \"\"\n      }\n    },\n    {\n      \"column\": \"Transmission_Automatic\",\n      \"properties\": {\n        \"dtype\": \"number\",\n        \"std\": 0.497569851956243,\n        \"min\": 0.0,\n        \"max\": 1.0,\n        \"num_unique_values\": 2,\n        \"samples\": [\n          1.0,\n          0.0\n        ],\n        \"semantic_type\": \"\",\n        \"description\": \"\"\n      }\n    },\n    {\n      \"column\": \"Transmission_Manual\",\n      \"properties\": {\n        \"dtype\": \"number\",\n        \"std\": 0.497569851956243,\n        \"min\": 0.0,\n        \"max\": 1.0,\n        \"num_unique_values\": 2,\n        \"samples\": [\n          0.0,\n          1.0\n        ],\n        \"semantic_type\": \"\",\n        \"description\": \"\"\n      }\n    },\n    {\n      \"column\": \"Owner_Type_First\",\n      \"properties\": {\n        \"dtype\": \"number\",\n        \"std\": 0.4988876515698589,\n        \"min\": 0.0,\n        \"max\": 1.0,\n        \"num_unique_values\": 2,\n        \"samples\": [\n          0.0,\n          1.0\n        ],\n        \"semantic_type\": \"\",\n        \"description\": \"\"\n      }\n    },\n    {\n      \"column\": \"Owner_Type_Second\",\n      \"properties\": {\n        \"dtype\": \"number\",\n        \"std\": 0.497569851956243,\n        \"min\": 0.0,\n        \"max\": 1.0,\n        \"num_unique_values\": 2,\n        \"samples\": [\n          1.0,\n          0.0\n        ],\n        \"semantic_type\": \"\",\n        \"description\": \"\"\n      }\n    },\n    {\n      \"column\": \"Owner_Type_Third\",\n      \"properties\": {\n        \"dtype\": \"number\",\n        \"std\": 0.33799766898963113,\n        \"min\": 0.0,\n        \"max\": 1.0,\n        \"num_unique_values\": 2,\n        \"samples\": [\n          1.0,\n          0.0\n        ],\n        \"semantic_type\": \"\",\n        \"description\": \"\"\n      }\n    }\n  ]\n}"
            }
          },
          "metadata": {},
          "execution_count": 159
        }
      ]
    },
    {
      "cell_type": "code",
      "source": [
        "X = pd.merge(numeric_transformed_df, cat_transformed, left_index=True,\n",
        "             right_index=True)"
      ],
      "metadata": {
        "id": "j5PHBRvqh2lI"
      },
      "execution_count": 160,
      "outputs": []
    },
    {
      "cell_type": "code",
      "source": [
        "X.head()"
      ],
      "metadata": {
        "colab": {
          "base_uri": "https://localhost:8080/",
          "height": 256
        },
        "id": "Ch9S18driFWr",
        "outputId": "1491ed51-f4bf-4f61-b9a3-969a0b7a7976"
      },
      "execution_count": 161,
      "outputs": [
        {
          "output_type": "execute_result",
          "data": {
            "text/plain": [
              "   Kilometers_Driven   Mileage    Engine     Power     Seats      Year  \\\n",
              "0           2.407540 -0.671057 -0.568704 -0.654590 -0.308149 -0.334681   \n",
              "1           1.305691 -0.063766 -0.411098 -0.236739 -0.308149  0.523475   \n",
              "2          -0.898007 -2.189286  4.928417  3.093011 -1.647929 -1.192836   \n",
              "3           0.203842  1.758109 -0.966700 -1.098556 -0.308149  1.381631   \n",
              "4           3.509389  0.239880  0.228880  0.468385 -0.308149 -2.050992   \n",
              "\n",
              "   Brand_Audi  Brand_BMW  Brand_Ford  Brand_Honda  ...  Brand_Tata  \\\n",
              "0         0.0        0.0         0.0          0.0  ...         0.0   \n",
              "1         0.0        0.0         0.0          1.0  ...         0.0   \n",
              "2         0.0        0.0         1.0          0.0  ...         0.0   \n",
              "3         0.0        0.0         0.0          0.0  ...         0.0   \n",
              "4         0.0        0.0         0.0          0.0  ...         0.0   \n",
              "\n",
              "   Brand_Toyota  Brand_Volkswagen  Fuel_Type_Diesel  Fuel_Type_Petrol  \\\n",
              "0           1.0               0.0               0.0               1.0   \n",
              "1           0.0               0.0               0.0               1.0   \n",
              "2           0.0               0.0               0.0               1.0   \n",
              "3           0.0               0.0               1.0               0.0   \n",
              "4           0.0               0.0               1.0               0.0   \n",
              "\n",
              "   Transmission_Automatic  Transmission_Manual  Owner_Type_First  \\\n",
              "0                     0.0                  1.0               1.0   \n",
              "1                     1.0                  0.0               0.0   \n",
              "2                     1.0                  0.0               1.0   \n",
              "3                     0.0                  1.0               0.0   \n",
              "4                     1.0                  0.0               0.0   \n",
              "\n",
              "   Owner_Type_Second  Owner_Type_Third  \n",
              "0                0.0               0.0  \n",
              "1                1.0               0.0  \n",
              "2                0.0               0.0  \n",
              "3                0.0               1.0  \n",
              "4                1.0               0.0  \n",
              "\n",
              "[5 rows x 24 columns]"
            ],
            "text/html": [
              "\n",
              "  <div id=\"df-94773c96-4407-4faa-82b1-98bf20ea35b4\" class=\"colab-df-container\">\n",
              "    <div>\n",
              "<style scoped>\n",
              "    .dataframe tbody tr th:only-of-type {\n",
              "        vertical-align: middle;\n",
              "    }\n",
              "\n",
              "    .dataframe tbody tr th {\n",
              "        vertical-align: top;\n",
              "    }\n",
              "\n",
              "    .dataframe thead th {\n",
              "        text-align: right;\n",
              "    }\n",
              "</style>\n",
              "<table border=\"1\" class=\"dataframe\">\n",
              "  <thead>\n",
              "    <tr style=\"text-align: right;\">\n",
              "      <th></th>\n",
              "      <th>Kilometers_Driven</th>\n",
              "      <th>Mileage</th>\n",
              "      <th>Engine</th>\n",
              "      <th>Power</th>\n",
              "      <th>Seats</th>\n",
              "      <th>Year</th>\n",
              "      <th>Brand_Audi</th>\n",
              "      <th>Brand_BMW</th>\n",
              "      <th>Brand_Ford</th>\n",
              "      <th>Brand_Honda</th>\n",
              "      <th>...</th>\n",
              "      <th>Brand_Tata</th>\n",
              "      <th>Brand_Toyota</th>\n",
              "      <th>Brand_Volkswagen</th>\n",
              "      <th>Fuel_Type_Diesel</th>\n",
              "      <th>Fuel_Type_Petrol</th>\n",
              "      <th>Transmission_Automatic</th>\n",
              "      <th>Transmission_Manual</th>\n",
              "      <th>Owner_Type_First</th>\n",
              "      <th>Owner_Type_Second</th>\n",
              "      <th>Owner_Type_Third</th>\n",
              "    </tr>\n",
              "  </thead>\n",
              "  <tbody>\n",
              "    <tr>\n",
              "      <th>0</th>\n",
              "      <td>2.407540</td>\n",
              "      <td>-0.671057</td>\n",
              "      <td>-0.568704</td>\n",
              "      <td>-0.654590</td>\n",
              "      <td>-0.308149</td>\n",
              "      <td>-0.334681</td>\n",
              "      <td>0.0</td>\n",
              "      <td>0.0</td>\n",
              "      <td>0.0</td>\n",
              "      <td>0.0</td>\n",
              "      <td>...</td>\n",
              "      <td>0.0</td>\n",
              "      <td>1.0</td>\n",
              "      <td>0.0</td>\n",
              "      <td>0.0</td>\n",
              "      <td>1.0</td>\n",
              "      <td>0.0</td>\n",
              "      <td>1.0</td>\n",
              "      <td>1.0</td>\n",
              "      <td>0.0</td>\n",
              "      <td>0.0</td>\n",
              "    </tr>\n",
              "    <tr>\n",
              "      <th>1</th>\n",
              "      <td>1.305691</td>\n",
              "      <td>-0.063766</td>\n",
              "      <td>-0.411098</td>\n",
              "      <td>-0.236739</td>\n",
              "      <td>-0.308149</td>\n",
              "      <td>0.523475</td>\n",
              "      <td>0.0</td>\n",
              "      <td>0.0</td>\n",
              "      <td>0.0</td>\n",
              "      <td>1.0</td>\n",
              "      <td>...</td>\n",
              "      <td>0.0</td>\n",
              "      <td>0.0</td>\n",
              "      <td>0.0</td>\n",
              "      <td>0.0</td>\n",
              "      <td>1.0</td>\n",
              "      <td>1.0</td>\n",
              "      <td>0.0</td>\n",
              "      <td>0.0</td>\n",
              "      <td>1.0</td>\n",
              "      <td>0.0</td>\n",
              "    </tr>\n",
              "    <tr>\n",
              "      <th>2</th>\n",
              "      <td>-0.898007</td>\n",
              "      <td>-2.189286</td>\n",
              "      <td>4.928417</td>\n",
              "      <td>3.093011</td>\n",
              "      <td>-1.647929</td>\n",
              "      <td>-1.192836</td>\n",
              "      <td>0.0</td>\n",
              "      <td>0.0</td>\n",
              "      <td>1.0</td>\n",
              "      <td>0.0</td>\n",
              "      <td>...</td>\n",
              "      <td>0.0</td>\n",
              "      <td>0.0</td>\n",
              "      <td>0.0</td>\n",
              "      <td>0.0</td>\n",
              "      <td>1.0</td>\n",
              "      <td>1.0</td>\n",
              "      <td>0.0</td>\n",
              "      <td>1.0</td>\n",
              "      <td>0.0</td>\n",
              "      <td>0.0</td>\n",
              "    </tr>\n",
              "    <tr>\n",
              "      <th>3</th>\n",
              "      <td>0.203842</td>\n",
              "      <td>1.758109</td>\n",
              "      <td>-0.966700</td>\n",
              "      <td>-1.098556</td>\n",
              "      <td>-0.308149</td>\n",
              "      <td>1.381631</td>\n",
              "      <td>0.0</td>\n",
              "      <td>0.0</td>\n",
              "      <td>0.0</td>\n",
              "      <td>0.0</td>\n",
              "      <td>...</td>\n",
              "      <td>0.0</td>\n",
              "      <td>0.0</td>\n",
              "      <td>0.0</td>\n",
              "      <td>1.0</td>\n",
              "      <td>0.0</td>\n",
              "      <td>0.0</td>\n",
              "      <td>1.0</td>\n",
              "      <td>0.0</td>\n",
              "      <td>0.0</td>\n",
              "      <td>1.0</td>\n",
              "    </tr>\n",
              "    <tr>\n",
              "      <th>4</th>\n",
              "      <td>3.509389</td>\n",
              "      <td>0.239880</td>\n",
              "      <td>0.228880</td>\n",
              "      <td>0.468385</td>\n",
              "      <td>-0.308149</td>\n",
              "      <td>-2.050992</td>\n",
              "      <td>0.0</td>\n",
              "      <td>0.0</td>\n",
              "      <td>0.0</td>\n",
              "      <td>0.0</td>\n",
              "      <td>...</td>\n",
              "      <td>0.0</td>\n",
              "      <td>0.0</td>\n",
              "      <td>0.0</td>\n",
              "      <td>1.0</td>\n",
              "      <td>0.0</td>\n",
              "      <td>1.0</td>\n",
              "      <td>0.0</td>\n",
              "      <td>0.0</td>\n",
              "      <td>1.0</td>\n",
              "      <td>0.0</td>\n",
              "    </tr>\n",
              "  </tbody>\n",
              "</table>\n",
              "<p>5 rows × 24 columns</p>\n",
              "</div>\n",
              "    <div class=\"colab-df-buttons\">\n",
              "\n",
              "  <div class=\"colab-df-container\">\n",
              "    <button class=\"colab-df-convert\" onclick=\"convertToInteractive('df-94773c96-4407-4faa-82b1-98bf20ea35b4')\"\n",
              "            title=\"Convert this dataframe to an interactive table.\"\n",
              "            style=\"display:none;\">\n",
              "\n",
              "  <svg xmlns=\"http://www.w3.org/2000/svg\" height=\"24px\" viewBox=\"0 -960 960 960\">\n",
              "    <path d=\"M120-120v-720h720v720H120Zm60-500h600v-160H180v160Zm220 220h160v-160H400v160Zm0 220h160v-160H400v160ZM180-400h160v-160H180v160Zm440 0h160v-160H620v160ZM180-180h160v-160H180v160Zm440 0h160v-160H620v160Z\"/>\n",
              "  </svg>\n",
              "    </button>\n",
              "\n",
              "  <style>\n",
              "    .colab-df-container {\n",
              "      display:flex;\n",
              "      gap: 12px;\n",
              "    }\n",
              "\n",
              "    .colab-df-convert {\n",
              "      background-color: #E8F0FE;\n",
              "      border: none;\n",
              "      border-radius: 50%;\n",
              "      cursor: pointer;\n",
              "      display: none;\n",
              "      fill: #1967D2;\n",
              "      height: 32px;\n",
              "      padding: 0 0 0 0;\n",
              "      width: 32px;\n",
              "    }\n",
              "\n",
              "    .colab-df-convert:hover {\n",
              "      background-color: #E2EBFA;\n",
              "      box-shadow: 0px 1px 2px rgba(60, 64, 67, 0.3), 0px 1px 3px 1px rgba(60, 64, 67, 0.15);\n",
              "      fill: #174EA6;\n",
              "    }\n",
              "\n",
              "    .colab-df-buttons div {\n",
              "      margin-bottom: 4px;\n",
              "    }\n",
              "\n",
              "    [theme=dark] .colab-df-convert {\n",
              "      background-color: #3B4455;\n",
              "      fill: #D2E3FC;\n",
              "    }\n",
              "\n",
              "    [theme=dark] .colab-df-convert:hover {\n",
              "      background-color: #434B5C;\n",
              "      box-shadow: 0px 1px 3px 1px rgba(0, 0, 0, 0.15);\n",
              "      filter: drop-shadow(0px 1px 2px rgba(0, 0, 0, 0.3));\n",
              "      fill: #FFFFFF;\n",
              "    }\n",
              "  </style>\n",
              "\n",
              "    <script>\n",
              "      const buttonEl =\n",
              "        document.querySelector('#df-94773c96-4407-4faa-82b1-98bf20ea35b4 button.colab-df-convert');\n",
              "      buttonEl.style.display =\n",
              "        google.colab.kernel.accessAllowed ? 'block' : 'none';\n",
              "\n",
              "      async function convertToInteractive(key) {\n",
              "        const element = document.querySelector('#df-94773c96-4407-4faa-82b1-98bf20ea35b4');\n",
              "        const dataTable =\n",
              "          await google.colab.kernel.invokeFunction('convertToInteractive',\n",
              "                                                    [key], {});\n",
              "        if (!dataTable) return;\n",
              "\n",
              "        const docLinkHtml = 'Like what you see? Visit the ' +\n",
              "          '<a target=\"_blank\" href=https://colab.research.google.com/notebooks/data_table.ipynb>data table notebook</a>'\n",
              "          + ' to learn more about interactive tables.';\n",
              "        element.innerHTML = '';\n",
              "        dataTable['output_type'] = 'display_data';\n",
              "        await google.colab.output.renderOutput(dataTable, element);\n",
              "        const docLink = document.createElement('div');\n",
              "        docLink.innerHTML = docLinkHtml;\n",
              "        element.appendChild(docLink);\n",
              "      }\n",
              "    </script>\n",
              "  </div>\n",
              "\n",
              "\n",
              "<div id=\"df-24c1f1a5-3dc1-4ce1-bbc4-d19a91cb0739\">\n",
              "  <button class=\"colab-df-quickchart\" onclick=\"quickchart('df-24c1f1a5-3dc1-4ce1-bbc4-d19a91cb0739')\"\n",
              "            title=\"Suggest charts\"\n",
              "            style=\"display:none;\">\n",
              "\n",
              "<svg xmlns=\"http://www.w3.org/2000/svg\" height=\"24px\"viewBox=\"0 0 24 24\"\n",
              "     width=\"24px\">\n",
              "    <g>\n",
              "        <path d=\"M19 3H5c-1.1 0-2 .9-2 2v14c0 1.1.9 2 2 2h14c1.1 0 2-.9 2-2V5c0-1.1-.9-2-2-2zM9 17H7v-7h2v7zm4 0h-2V7h2v10zm4 0h-2v-4h2v4z\"/>\n",
              "    </g>\n",
              "</svg>\n",
              "  </button>\n",
              "\n",
              "<style>\n",
              "  .colab-df-quickchart {\n",
              "      --bg-color: #E8F0FE;\n",
              "      --fill-color: #1967D2;\n",
              "      --hover-bg-color: #E2EBFA;\n",
              "      --hover-fill-color: #174EA6;\n",
              "      --disabled-fill-color: #AAA;\n",
              "      --disabled-bg-color: #DDD;\n",
              "  }\n",
              "\n",
              "  [theme=dark] .colab-df-quickchart {\n",
              "      --bg-color: #3B4455;\n",
              "      --fill-color: #D2E3FC;\n",
              "      --hover-bg-color: #434B5C;\n",
              "      --hover-fill-color: #FFFFFF;\n",
              "      --disabled-bg-color: #3B4455;\n",
              "      --disabled-fill-color: #666;\n",
              "  }\n",
              "\n",
              "  .colab-df-quickchart {\n",
              "    background-color: var(--bg-color);\n",
              "    border: none;\n",
              "    border-radius: 50%;\n",
              "    cursor: pointer;\n",
              "    display: none;\n",
              "    fill: var(--fill-color);\n",
              "    height: 32px;\n",
              "    padding: 0;\n",
              "    width: 32px;\n",
              "  }\n",
              "\n",
              "  .colab-df-quickchart:hover {\n",
              "    background-color: var(--hover-bg-color);\n",
              "    box-shadow: 0 1px 2px rgba(60, 64, 67, 0.3), 0 1px 3px 1px rgba(60, 64, 67, 0.15);\n",
              "    fill: var(--button-hover-fill-color);\n",
              "  }\n",
              "\n",
              "  .colab-df-quickchart-complete:disabled,\n",
              "  .colab-df-quickchart-complete:disabled:hover {\n",
              "    background-color: var(--disabled-bg-color);\n",
              "    fill: var(--disabled-fill-color);\n",
              "    box-shadow: none;\n",
              "  }\n",
              "\n",
              "  .colab-df-spinner {\n",
              "    border: 2px solid var(--fill-color);\n",
              "    border-color: transparent;\n",
              "    border-bottom-color: var(--fill-color);\n",
              "    animation:\n",
              "      spin 1s steps(1) infinite;\n",
              "  }\n",
              "\n",
              "  @keyframes spin {\n",
              "    0% {\n",
              "      border-color: transparent;\n",
              "      border-bottom-color: var(--fill-color);\n",
              "      border-left-color: var(--fill-color);\n",
              "    }\n",
              "    20% {\n",
              "      border-color: transparent;\n",
              "      border-left-color: var(--fill-color);\n",
              "      border-top-color: var(--fill-color);\n",
              "    }\n",
              "    30% {\n",
              "      border-color: transparent;\n",
              "      border-left-color: var(--fill-color);\n",
              "      border-top-color: var(--fill-color);\n",
              "      border-right-color: var(--fill-color);\n",
              "    }\n",
              "    40% {\n",
              "      border-color: transparent;\n",
              "      border-right-color: var(--fill-color);\n",
              "      border-top-color: var(--fill-color);\n",
              "    }\n",
              "    60% {\n",
              "      border-color: transparent;\n",
              "      border-right-color: var(--fill-color);\n",
              "    }\n",
              "    80% {\n",
              "      border-color: transparent;\n",
              "      border-right-color: var(--fill-color);\n",
              "      border-bottom-color: var(--fill-color);\n",
              "    }\n",
              "    90% {\n",
              "      border-color: transparent;\n",
              "      border-bottom-color: var(--fill-color);\n",
              "    }\n",
              "  }\n",
              "</style>\n",
              "\n",
              "  <script>\n",
              "    async function quickchart(key) {\n",
              "      const quickchartButtonEl =\n",
              "        document.querySelector('#' + key + ' button');\n",
              "      quickchartButtonEl.disabled = true;  // To prevent multiple clicks.\n",
              "      quickchartButtonEl.classList.add('colab-df-spinner');\n",
              "      try {\n",
              "        const charts = await google.colab.kernel.invokeFunction(\n",
              "            'suggestCharts', [key], {});\n",
              "      } catch (error) {\n",
              "        console.error('Error during call to suggestCharts:', error);\n",
              "      }\n",
              "      quickchartButtonEl.classList.remove('colab-df-spinner');\n",
              "      quickchartButtonEl.classList.add('colab-df-quickchart-complete');\n",
              "    }\n",
              "    (() => {\n",
              "      let quickchartButtonEl =\n",
              "        document.querySelector('#df-24c1f1a5-3dc1-4ce1-bbc4-d19a91cb0739 button');\n",
              "      quickchartButtonEl.style.display =\n",
              "        google.colab.kernel.accessAllowed ? 'block' : 'none';\n",
              "    })();\n",
              "  </script>\n",
              "</div>\n",
              "    </div>\n",
              "  </div>\n"
            ],
            "application/vnd.google.colaboratory.intrinsic+json": {
              "type": "dataframe",
              "variable_name": "X"
            }
          },
          "metadata": {},
          "execution_count": 161
        }
      ]
    },
    {
      "cell_type": "code",
      "source": [
        "y = df['Price']"
      ],
      "metadata": {
        "id": "v601gB1eiQSq"
      },
      "execution_count": 162,
      "outputs": []
    },
    {
      "cell_type": "code",
      "source": [
        "from sklearn.model_selection import train_test_split"
      ],
      "metadata": {
        "id": "s4Fs4iXliV-C"
      },
      "execution_count": 163,
      "outputs": []
    },
    {
      "cell_type": "code",
      "source": [
        "X_train, X_test, y_train, y_test = train_test_split(X, y, train_size=0.8)"
      ],
      "metadata": {
        "id": "j2g-BNc3io8k"
      },
      "execution_count": 164,
      "outputs": []
    },
    {
      "cell_type": "markdown",
      "source": [
        "## **Let's start with simple things**"
      ],
      "metadata": {
        "id": "cAsaBO97iz1r"
      }
    },
    {
      "cell_type": "code",
      "source": [
        "from sklearn.linear_model import Ridge\n",
        "from sklearn.model_selection import cross_val_predict, cross_val_score\n",
        "from sklearn.metrics import mean_squared_error"
      ],
      "metadata": {
        "id": "shmojV-HiyqD"
      },
      "execution_count": 165,
      "outputs": []
    },
    {
      "cell_type": "code",
      "source": [
        "linear_model = Ridge(alpha=0.1)\n",
        "linear_model.fit(X_train, y_train)"
      ],
      "metadata": {
        "colab": {
          "base_uri": "https://localhost:8080/",
          "height": 75
        },
        "id": "thAukRRKjE9l",
        "outputId": "7af5759b-c1b6-474b-eba5-134c6ef3e551"
      },
      "execution_count": 166,
      "outputs": [
        {
          "output_type": "execute_result",
          "data": {
            "text/plain": [
              "Ridge(alpha=0.1)"
            ],
            "text/html": [
              "<style>#sk-container-id-11 {color: black;background-color: white;}#sk-container-id-11 pre{padding: 0;}#sk-container-id-11 div.sk-toggleable {background-color: white;}#sk-container-id-11 label.sk-toggleable__label {cursor: pointer;display: block;width: 100%;margin-bottom: 0;padding: 0.3em;box-sizing: border-box;text-align: center;}#sk-container-id-11 label.sk-toggleable__label-arrow:before {content: \"▸\";float: left;margin-right: 0.25em;color: #696969;}#sk-container-id-11 label.sk-toggleable__label-arrow:hover:before {color: black;}#sk-container-id-11 div.sk-estimator:hover label.sk-toggleable__label-arrow:before {color: black;}#sk-container-id-11 div.sk-toggleable__content {max-height: 0;max-width: 0;overflow: hidden;text-align: left;background-color: #f0f8ff;}#sk-container-id-11 div.sk-toggleable__content pre {margin: 0.2em;color: black;border-radius: 0.25em;background-color: #f0f8ff;}#sk-container-id-11 input.sk-toggleable__control:checked~div.sk-toggleable__content {max-height: 200px;max-width: 100%;overflow: auto;}#sk-container-id-11 input.sk-toggleable__control:checked~label.sk-toggleable__label-arrow:before {content: \"▾\";}#sk-container-id-11 div.sk-estimator input.sk-toggleable__control:checked~label.sk-toggleable__label {background-color: #d4ebff;}#sk-container-id-11 div.sk-label input.sk-toggleable__control:checked~label.sk-toggleable__label {background-color: #d4ebff;}#sk-container-id-11 input.sk-hidden--visually {border: 0;clip: rect(1px 1px 1px 1px);clip: rect(1px, 1px, 1px, 1px);height: 1px;margin: -1px;overflow: hidden;padding: 0;position: absolute;width: 1px;}#sk-container-id-11 div.sk-estimator {font-family: monospace;background-color: #f0f8ff;border: 1px dotted black;border-radius: 0.25em;box-sizing: border-box;margin-bottom: 0.5em;}#sk-container-id-11 div.sk-estimator:hover {background-color: #d4ebff;}#sk-container-id-11 div.sk-parallel-item::after {content: \"\";width: 100%;border-bottom: 1px solid gray;flex-grow: 1;}#sk-container-id-11 div.sk-label:hover label.sk-toggleable__label {background-color: #d4ebff;}#sk-container-id-11 div.sk-serial::before {content: \"\";position: absolute;border-left: 1px solid gray;box-sizing: border-box;top: 0;bottom: 0;left: 50%;z-index: 0;}#sk-container-id-11 div.sk-serial {display: flex;flex-direction: column;align-items: center;background-color: white;padding-right: 0.2em;padding-left: 0.2em;position: relative;}#sk-container-id-11 div.sk-item {position: relative;z-index: 1;}#sk-container-id-11 div.sk-parallel {display: flex;align-items: stretch;justify-content: center;background-color: white;position: relative;}#sk-container-id-11 div.sk-item::before, #sk-container-id-11 div.sk-parallel-item::before {content: \"\";position: absolute;border-left: 1px solid gray;box-sizing: border-box;top: 0;bottom: 0;left: 50%;z-index: -1;}#sk-container-id-11 div.sk-parallel-item {display: flex;flex-direction: column;z-index: 1;position: relative;background-color: white;}#sk-container-id-11 div.sk-parallel-item:first-child::after {align-self: flex-end;width: 50%;}#sk-container-id-11 div.sk-parallel-item:last-child::after {align-self: flex-start;width: 50%;}#sk-container-id-11 div.sk-parallel-item:only-child::after {width: 0;}#sk-container-id-11 div.sk-dashed-wrapped {border: 1px dashed gray;margin: 0 0.4em 0.5em 0.4em;box-sizing: border-box;padding-bottom: 0.4em;background-color: white;}#sk-container-id-11 div.sk-label label {font-family: monospace;font-weight: bold;display: inline-block;line-height: 1.2em;}#sk-container-id-11 div.sk-label-container {text-align: center;}#sk-container-id-11 div.sk-container {/* jupyter's `normalize.less` sets `[hidden] { display: none; }` but bootstrap.min.css set `[hidden] { display: none !important; }` so we also need the `!important` here to be able to override the default hidden behavior on the sphinx rendered scikit-learn.org. See: https://github.com/scikit-learn/scikit-learn/issues/21755 */display: inline-block !important;position: relative;}#sk-container-id-11 div.sk-text-repr-fallback {display: none;}</style><div id=\"sk-container-id-11\" class=\"sk-top-container\"><div class=\"sk-text-repr-fallback\"><pre>Ridge(alpha=0.1)</pre><b>In a Jupyter environment, please rerun this cell to show the HTML representation or trust the notebook. <br />On GitHub, the HTML representation is unable to render, please try loading this page with nbviewer.org.</b></div><div class=\"sk-container\" hidden><div class=\"sk-item\"><div class=\"sk-estimator sk-toggleable\"><input class=\"sk-toggleable__control sk-hidden--visually\" id=\"sk-estimator-id-11\" type=\"checkbox\" checked><label for=\"sk-estimator-id-11\" class=\"sk-toggleable__label sk-toggleable__label-arrow\">Ridge</label><div class=\"sk-toggleable__content\"><pre>Ridge(alpha=0.1)</pre></div></div></div></div></div>"
            ]
          },
          "metadata": {},
          "execution_count": 166
        }
      ]
    },
    {
      "cell_type": "code",
      "source": [
        "y_train_pred = cross_val_predict(linear_model, X_train, y_train, cv=3)\n",
        "y_train_pred[:10]"
      ],
      "metadata": {
        "colab": {
          "base_uri": "https://localhost:8080/"
        },
        "id": "_GPaqlK1jqFG",
        "outputId": "1d9dd3df-0274-4e21-bd7e-d6a38acd6576"
      },
      "execution_count": 167,
      "outputs": [
        {
          "output_type": "execute_result",
          "data": {
            "text/plain": [
              "array([10874.87250633, 22309.427671  ,  8611.58147388, 31708.32712263,\n",
              "        7746.25973404,  9187.42554594,  6402.77583887, 30218.97462118,\n",
              "        5601.71982989,  9159.69420606])"
            ]
          },
          "metadata": {},
          "execution_count": 167
        }
      ]
    },
    {
      "cell_type": "code",
      "source": [
        "mean_squared_error(y_train, y_train_pred)"
      ],
      "metadata": {
        "colab": {
          "base_uri": "https://localhost:8080/"
        },
        "id": "lXC2t5Fijza2",
        "outputId": "d1e1cf94-d72b-4c19-dec9-322449d4bd26"
      },
      "execution_count": 168,
      "outputs": [
        {
          "output_type": "execute_result",
          "data": {
            "text/plain": [
              "10639945.596477374"
            ]
          },
          "metadata": {},
          "execution_count": 168
        }
      ]
    },
    {
      "cell_type": "code",
      "source": [
        "from sklearn.model_selection import learning_curve"
      ],
      "metadata": {
        "id": "_KcePcBVkAsX"
      },
      "execution_count": 169,
      "outputs": []
    },
    {
      "cell_type": "code",
      "source": [
        "train_size, train_scores, valid_scores = learning_curve(\n",
        "    linear_model, X_train, y_train, train_sizes=np.linspace(0.01, 1.0, 40), cv=5,\n",
        "    scoring='neg_root_mean_squared_error'\n",
        ")\n",
        "\n",
        "train_errs = -train_scores.mean(axis=1)\n",
        "val_errs = -valid_scores.mean(axis=1)"
      ],
      "metadata": {
        "id": "XPiMBDi2kftv"
      },
      "execution_count": 170,
      "outputs": []
    },
    {
      "cell_type": "code",
      "source": [
        "plt.plot(train_size, train_errs, color='blue', label='Training_set error')\n",
        "plt.plot(train_size, val_errs, color='red', label='Validation_set error')\n",
        "plt.grid()\n",
        "plt.legend()\n",
        "plt.xlabel('Samples')\n",
        "plt.ylabel('Error')\n",
        "plt.show();"
      ],
      "metadata": {
        "colab": {
          "base_uri": "https://localhost:8080/",
          "height": 449
        },
        "id": "UT_xR_3skja_",
        "outputId": "983a2e51-e216-4c27-af9c-8d5032abc711"
      },
      "execution_count": 171,
      "outputs": [
        {
          "output_type": "display_data",
          "data": {
            "text/plain": [
              "<Figure size 640x480 with 1 Axes>"
            ],
            "image/png": "[encoded data removed]"
          },
          "metadata": {}
        }
      ]
    },
    {
      "cell_type": "markdown",
      "source": [
        "Oh uh..."
      ],
      "metadata": {
        "id": "Vkq8LOKXlOyL"
      }
    },
    {
      "cell_type": "code",
      "source": [],
      "metadata": {
        "id": "S2EylJ73krER"
      },
      "execution_count": 171,
      "outputs": []
    },
    {
      "cell_type": "code",
      "source": [
        "from sklearn.svm import SVR"
      ],
      "metadata": {
        "id": "8NqDHSP0lRsC"
      },
      "execution_count": 172,
      "outputs": []
    },
    {
      "cell_type": "code",
      "source": [
        "svr = SVR()\n",
        "svr.fit(X_train, y_train)"
      ],
      "metadata": {
        "colab": {
          "base_uri": "https://localhost:8080/",
          "height": 75
        },
        "outputId": "b5495bb1-b41d-4d55-903d-ee97277ded01",
        "id": "mJL14BEAlRsC"
      },
      "execution_count": 173,
      "outputs": [
        {
          "output_type": "execute_result",
          "data": {
            "text/plain": [
              "SVR()"
            ],
            "text/html": [
              "<style>#sk-container-id-12 {color: black;background-color: white;}#sk-container-id-12 pre{padding: 0;}#sk-container-id-12 div.sk-toggleable {background-color: white;}#sk-container-id-12 label.sk-toggleable__label {cursor: pointer;display: block;width: 100%;margin-bottom: 0;padding: 0.3em;box-sizing: border-box;text-align: center;}#sk-container-id-12 label.sk-toggleable__label-arrow:before {content: \"▸\";float: left;margin-right: 0.25em;color: #696969;}#sk-container-id-12 label.sk-toggleable__label-arrow:hover:before {color: black;}#sk-container-id-12 div.sk-estimator:hover label.sk-toggleable__label-arrow:before {color: black;}#sk-container-id-12 div.sk-toggleable__content {max-height: 0;max-width: 0;overflow: hidden;text-align: left;background-color: #f0f8ff;}#sk-container-id-12 div.sk-toggleable__content pre {margin: 0.2em;color: black;border-radius: 0.25em;background-color: #f0f8ff;}#sk-container-id-12 input.sk-toggleable__control:checked~div.sk-toggleable__content {max-height: 200px;max-width: 100%;overflow: auto;}#sk-container-id-12 input.sk-toggleable__control:checked~label.sk-toggleable__label-arrow:before {content: \"▾\";}#sk-container-id-12 div.sk-estimator input.sk-toggleable__control:checked~label.sk-toggleable__label {background-color: #d4ebff;}#sk-container-id-12 div.sk-label input.sk-toggleable__control:checked~label.sk-toggleable__label {background-color: #d4ebff;}#sk-container-id-12 input.sk-hidden--visually {border: 0;clip: rect(1px 1px 1px 1px);clip: rect(1px, 1px, 1px, 1px);height: 1px;margin: -1px;overflow: hidden;padding: 0;position: absolute;width: 1px;}#sk-container-id-12 div.sk-estimator {font-family: monospace;background-color: #f0f8ff;border: 1px dotted black;border-radius: 0.25em;box-sizing: border-box;margin-bottom: 0.5em;}#sk-container-id-12 div.sk-estimator:hover {background-color: #d4ebff;}#sk-container-id-12 div.sk-parallel-item::after {content: \"\";width: 100%;border-bottom: 1px solid gray;flex-grow: 1;}#sk-container-id-12 div.sk-label:hover label.sk-toggleable__label {background-color: #d4ebff;}#sk-container-id-12 div.sk-serial::before {content: \"\";position: absolute;border-left: 1px solid gray;box-sizing: border-box;top: 0;bottom: 0;left: 50%;z-index: 0;}#sk-container-id-12 div.sk-serial {display: flex;flex-direction: column;align-items: center;background-color: white;padding-right: 0.2em;padding-left: 0.2em;position: relative;}#sk-container-id-12 div.sk-item {position: relative;z-index: 1;}#sk-container-id-12 div.sk-parallel {display: flex;align-items: stretch;justify-content: center;background-color: white;position: relative;}#sk-container-id-12 div.sk-item::before, #sk-container-id-12 div.sk-parallel-item::before {content: \"\";position: absolute;border-left: 1px solid gray;box-sizing: border-box;top: 0;bottom: 0;left: 50%;z-index: -1;}#sk-container-id-12 div.sk-parallel-item {display: flex;flex-direction: column;z-index: 1;position: relative;background-color: white;}#sk-container-id-12 div.sk-parallel-item:first-child::after {align-self: flex-end;width: 50%;}#sk-container-id-12 div.sk-parallel-item:last-child::after {align-self: flex-start;width: 50%;}#sk-container-id-12 div.sk-parallel-item:only-child::after {width: 0;}#sk-container-id-12 div.sk-dashed-wrapped {border: 1px dashed gray;margin: 0 0.4em 0.5em 0.4em;box-sizing: border-box;padding-bottom: 0.4em;background-color: white;}#sk-container-id-12 div.sk-label label {font-family: monospace;font-weight: bold;display: inline-block;line-height: 1.2em;}#sk-container-id-12 div.sk-label-container {text-align: center;}#sk-container-id-12 div.sk-container {/* jupyter's `normalize.less` sets `[hidden] { display: none; }` but bootstrap.min.css set `[hidden] { display: none !important; }` so we also need the `!important` here to be able to override the default hidden behavior on the sphinx rendered scikit-learn.org. See: https://github.com/scikit-learn/scikit-learn/issues/21755 */display: inline-block !important;position: relative;}#sk-container-id-12 div.sk-text-repr-fallback {display: none;}</style><div id=\"sk-container-id-12\" class=\"sk-top-container\"><div class=\"sk-text-repr-fallback\"><pre>SVR()</pre><b>In a Jupyter environment, please rerun this cell to show the HTML representation or trust the notebook. <br />On GitHub, the HTML representation is unable to render, please try loading this page with nbviewer.org.</b></div><div class=\"sk-container\" hidden><div class=\"sk-item\"><div class=\"sk-estimator sk-toggleable\"><input class=\"sk-toggleable__control sk-hidden--visually\" id=\"sk-estimator-id-12\" type=\"checkbox\" checked><label for=\"sk-estimator-id-12\" class=\"sk-toggleable__label sk-toggleable__label-arrow\">SVR</label><div class=\"sk-toggleable__content\"><pre>SVR()</pre></div></div></div></div></div>"
            ]
          },
          "metadata": {},
          "execution_count": 173
        }
      ]
    },
    {
      "cell_type": "code",
      "source": [
        "y_train_pred = cross_val_predict(svr, X_train, y_train, cv=3)\n",
        "y_train_pred[:10]"
      ],
      "metadata": {
        "colab": {
          "base_uri": "https://localhost:8080/"
        },
        "outputId": "3fa707b3-5a1f-463e-c2c7-09c3d5964e31",
        "id": "UC2Zbt06lRsD"
      },
      "execution_count": 174,
      "outputs": [
        {
          "output_type": "execute_result",
          "data": {
            "text/plain": [
              "array([16796.14320284, 16798.95061491, 16792.24200333, 16802.82394745,\n",
              "       16795.22033551, 16794.16118801, 16788.95454977, 16800.48705765,\n",
              "       16793.01448618, 16792.76574869])"
            ]
          },
          "metadata": {},
          "execution_count": 174
        }
      ]
    },
    {
      "cell_type": "code",
      "source": [
        "mean_squared_error(y_train, y_train_pred)"
      ],
      "metadata": {
        "colab": {
          "base_uri": "https://localhost:8080/"
        },
        "outputId": "fa6b8c68-7954-4f70-801b-919410df6a81",
        "id": "naAebzfmlRsD"
      },
      "execution_count": 175,
      "outputs": [
        {
          "output_type": "execute_result",
          "data": {
            "text/plain": [
              "163745168.6333292"
            ]
          },
          "metadata": {},
          "execution_count": 175
        }
      ]
    },
    {
      "cell_type": "code",
      "source": [
        "import sklearn"
      ],
      "metadata": {
        "id": "spDqec2LmdeT"
      },
      "execution_count": 176,
      "outputs": []
    },
    {
      "cell_type": "code",
      "source": [
        "train_size, train_scores, valid_scores = learning_curve(\n",
        "    svr, X_train, y_train, train_sizes=np.linspace(0.01, 1.0, 40), cv=5,\n",
        "    scoring='neg_root_mean_squared_error'\n",
        ")\n",
        "\n",
        "train_errs = -train_scores.mean(axis=1)\n",
        "val_errs = -valid_scores.mean(axis=1)"
      ],
      "metadata": {
        "id": "zsS_5nmAlRsD"
      },
      "execution_count": 177,
      "outputs": []
    },
    {
      "cell_type": "code",
      "source": [
        "plt.plot(train_size, train_errs, color='blue', label='Training_set error')\n",
        "plt.plot(train_size, val_errs, color='red', label='Validation_set error')\n",
        "plt.grid()\n",
        "plt.legend()\n",
        "plt.xlabel('Samples')\n",
        "plt.ylabel('Error')\n",
        "plt.show();"
      ],
      "metadata": {
        "colab": {
          "base_uri": "https://localhost:8080/",
          "height": 449
        },
        "outputId": "c27af209-d350-427b-f9bb-f626b55174be",
        "id": "DgVTcwOFlRsD"
      },
      "execution_count": 178,
      "outputs": [
        {
          "output_type": "display_data",
          "data": {
            "text/plain": [
              "<Figure size 640x480 with 1 Axes>"
            ],
            "image/png": "[encoded data removed]"
          },
          "metadata": {}
        }
      ]
    },
    {
      "cell_type": "code",
      "source": [
        "test_pred = svr.predict(X_test)"
      ],
      "metadata": {
        "id": "euTVQvuBlnbh"
      },
      "execution_count": 179,
      "outputs": []
    },
    {
      "cell_type": "code",
      "source": [
        "y_test = np.array(y_test)"
      ],
      "metadata": {
        "id": "3xlUVdQxpL9_"
      },
      "execution_count": 180,
      "outputs": []
    },
    {
      "cell_type": "code",
      "source": [
        "for i in range(len(test_pred)):\n",
        "  print(f'{y_test[i]} \\  {test_pred[i]}')"
      ],
      "metadata": {
        "colab": {
          "base_uri": "https://localhost:8080/"
        },
        "id": "0_-XMEmno-Fe",
        "outputId": "1d8462ea-008a-490d-9c50-c789b8517103"
      },
      "execution_count": 181,
      "outputs": [
        {
          "output_type": "stream",
          "name": "stdout",
          "text": [
            "8400.0 \\  14990.79514362945\n",
            "7800.0 \\  14990.99380713321\n",
            "21600.0 \\  15003.076549327327\n",
            "33600.0 \\  15002.742506710672\n",
            "38400.0 \\  15006.322119055536\n",
            "32400.0 \\  15007.160816579019\n",
            "38400.0 \\  15006.322119055536\n",
            "16800.0 \\  15004.031234569968\n",
            "6000.0 \\  14988.985472797453\n",
            "8400.0 \\  14992.111074636034\n",
            "21600.0 \\  15003.144248992714\n",
            "19200.0 \\  14995.523961968356\n",
            "10200.0 \\  14995.184571544054\n",
            "42000.0 \\  15008.08208196753\n",
            "7200.0 \\  14988.407558045234\n",
            "10200.0 \\  14996.367500851093\n",
            "5400.0 \\  14986.518316005808\n",
            "30000.0 \\  15000.276296250991\n",
            "31200.0 \\  15005.577015329738\n",
            "6000.0 \\  14990.983542792215\n"
          ]
        }
      ]
    },
    {
      "cell_type": "code",
      "source": [],
      "metadata": {
        "id": "5YA2GS55pIHG"
      },
      "execution_count": 181,
      "outputs": []
    },
    {
      "cell_type": "code",
      "source": [
        "from sklearn.neighbors import KNeighborsRegressor"
      ],
      "metadata": {
        "id": "0WrU9TGvpyIZ"
      },
      "execution_count": 182,
      "outputs": []
    },
    {
      "cell_type": "code",
      "source": [
        "knn = KNeighborsRegressor()\n",
        "knn.fit(X_train, y_train)"
      ],
      "metadata": {
        "colab": {
          "base_uri": "https://localhost:8080/",
          "height": 75
        },
        "outputId": "b9d61381-c54b-4e52-8d10-d9aa5e24fe4a",
        "id": "kB_m2GbYpyIa"
      },
      "execution_count": 183,
      "outputs": [
        {
          "output_type": "execute_result",
          "data": {
            "text/plain": [
              "KNeighborsRegressor()"
            ],
            "text/html": [
              "<style>#sk-container-id-13 {color: black;background-color: white;}#sk-container-id-13 pre{padding: 0;}#sk-container-id-13 div.sk-toggleable {background-color: white;}#sk-container-id-13 label.sk-toggleable__label {cursor: pointer;display: block;width: 100%;margin-bottom: 0;padding: 0.3em;box-sizing: border-box;text-align: center;}#sk-container-id-13 label.sk-toggleable__label-arrow:before {content: \"▸\";float: left;margin-right: 0.25em;color: #696969;}#sk-container-id-13 label.sk-toggleable__label-arrow:hover:before {color: black;}#sk-container-id-13 div.sk-estimator:hover label.sk-toggleable__label-arrow:before {color: black;}#sk-container-id-13 div.sk-toggleable__content {max-height: 0;max-width: 0;overflow: hidden;text-align: left;background-color: #f0f8ff;}#sk-container-id-13 div.sk-toggleable__content pre {margin: 0.2em;color: black;border-radius: 0.25em;background-color: #f0f8ff;}#sk-container-id-13 input.sk-toggleable__control:checked~div.sk-toggleable__content {max-height: 200px;max-width: 100%;overflow: auto;}#sk-container-id-13 input.sk-toggleable__control:checked~label.sk-toggleable__label-arrow:before {content: \"▾\";}#sk-container-id-13 div.sk-estimator input.sk-toggleable__control:checked~label.sk-toggleable__label {background-color: #d4ebff;}#sk-container-id-13 div.sk-label input.sk-toggleable__control:checked~label.sk-toggleable__label {background-color: #d4ebff;}#sk-container-id-13 input.sk-hidden--visually {border: 0;clip: rect(1px 1px 1px 1px);clip: rect(1px, 1px, 1px, 1px);height: 1px;margin: -1px;overflow: hidden;padding: 0;position: absolute;width: 1px;}#sk-container-id-13 div.sk-estimator {font-family: monospace;background-color: #f0f8ff;border: 1px dotted black;border-radius: 0.25em;box-sizing: border-box;margin-bottom: 0.5em;}#sk-container-id-13 div.sk-estimator:hover {background-color: #d4ebff;}#sk-container-id-13 div.sk-parallel-item::after {content: \"\";width: 100%;border-bottom: 1px solid gray;flex-grow: 1;}#sk-container-id-13 div.sk-label:hover label.sk-toggleable__label {background-color: #d4ebff;}#sk-container-id-13 div.sk-serial::before {content: \"\";position: absolute;border-left: 1px solid gray;box-sizing: border-box;top: 0;bottom: 0;left: 50%;z-index: 0;}#sk-container-id-13 div.sk-serial {display: flex;flex-direction: column;align-items: center;background-color: white;padding-right: 0.2em;padding-left: 0.2em;position: relative;}#sk-container-id-13 div.sk-item {position: relative;z-index: 1;}#sk-container-id-13 div.sk-parallel {display: flex;align-items: stretch;justify-content: center;background-color: white;position: relative;}#sk-container-id-13 div.sk-item::before, #sk-container-id-13 div.sk-parallel-item::before {content: \"\";position: absolute;border-left: 1px solid gray;box-sizing: border-box;top: 0;bottom: 0;left: 50%;z-index: -1;}#sk-container-id-13 div.sk-parallel-item {display: flex;flex-direction: column;z-index: 1;position: relative;background-color: white;}#sk-container-id-13 div.sk-parallel-item:first-child::after {align-self: flex-end;width: 50%;}#sk-container-id-13 div.sk-parallel-item:last-child::after {align-self: flex-start;width: 50%;}#sk-container-id-13 div.sk-parallel-item:only-child::after {width: 0;}#sk-container-id-13 div.sk-dashed-wrapped {border: 1px dashed gray;margin: 0 0.4em 0.5em 0.4em;box-sizing: border-box;padding-bottom: 0.4em;background-color: white;}#sk-container-id-13 div.sk-label label {font-family: monospace;font-weight: bold;display: inline-block;line-height: 1.2em;}#sk-container-id-13 div.sk-label-container {text-align: center;}#sk-container-id-13 div.sk-container {/* jupyter's `normalize.less` sets `[hidden] { display: none; }` but bootstrap.min.css set `[hidden] { display: none !important; }` so we also need the `!important` here to be able to override the default hidden behavior on the sphinx rendered scikit-learn.org. See: https://github.com/scikit-learn/scikit-learn/issues/21755 */display: inline-block !important;position: relative;}#sk-container-id-13 div.sk-text-repr-fallback {display: none;}</style><div id=\"sk-container-id-13\" class=\"sk-top-container\"><div class=\"sk-text-repr-fallback\"><pre>KNeighborsRegressor()</pre><b>In a Jupyter environment, please rerun this cell to show the HTML representation or trust the notebook. <br />On GitHub, the HTML representation is unable to render, please try loading this page with nbviewer.org.</b></div><div class=\"sk-container\" hidden><div class=\"sk-item\"><div class=\"sk-estimator sk-toggleable\"><input class=\"sk-toggleable__control sk-hidden--visually\" id=\"sk-estimator-id-13\" type=\"checkbox\" checked><label for=\"sk-estimator-id-13\" class=\"sk-toggleable__label sk-toggleable__label-arrow\">KNeighborsRegressor</label><div class=\"sk-toggleable__content\"><pre>KNeighborsRegressor()</pre></div></div></div></div></div>"
            ]
          },
          "metadata": {},
          "execution_count": 183
        }
      ]
    },
    {
      "cell_type": "code",
      "source": [
        "y_train_pred = cross_val_predict(knn, X_train, y_train, cv=3)\n",
        "y_train_pred[:10]"
      ],
      "metadata": {
        "colab": {
          "base_uri": "https://localhost:8080/"
        },
        "outputId": "36b2ab82-b96c-4d85-df96-50be55bd4f03",
        "id": "-asEN-ybpyIa"
      },
      "execution_count": 184,
      "outputs": [
        {
          "output_type": "execute_result",
          "data": {
            "text/plain": [
              "array([12360., 20520.,  7200., 29280.,  9600., 13200.,  7440., 32160.,\n",
              "        9960.,  8160.])"
            ]
          },
          "metadata": {},
          "execution_count": 184
        }
      ]
    },
    {
      "cell_type": "code",
      "source": [
        "mean_squared_error(y_train, y_train_pred)"
      ],
      "metadata": {
        "colab": {
          "base_uri": "https://localhost:8080/"
        },
        "outputId": "9a2f8c3b-5166-496c-af39-2b208596347c",
        "id": "ZWZ1Gy01pyIa"
      },
      "execution_count": 185,
      "outputs": [
        {
          "output_type": "execute_result",
          "data": {
            "text/plain": [
              "22172580.0"
            ]
          },
          "metadata": {},
          "execution_count": 185
        }
      ]
    },
    {
      "cell_type": "code",
      "source": [
        "import sklearn"
      ],
      "metadata": {
        "id": "nuIYBDIjpyIa"
      },
      "execution_count": 186,
      "outputs": []
    },
    {
      "cell_type": "code",
      "source": [
        "train_size, train_scores, valid_scores = learning_curve(\n",
        "    knn, X_train, y_train, train_sizes=np.linspace(0.01, 1.0, 40), cv=5,\n",
        "    scoring='neg_root_mean_squared_error'\n",
        ")\n",
        "\n",
        "train_errs = -train_scores.mean(axis=1)\n",
        "val_errs = -valid_scores.mean(axis=1)"
      ],
      "metadata": {
        "id": "Q9oJchV9pyIa"
      },
      "execution_count": null,
      "outputs": []
    },
    {
      "cell_type": "code",
      "source": [
        "# seems something fucked up\n",
        "plt.plot(train_size, train_errs, color='blue', label='Training_set error')\n",
        "plt.plot(train_size, val_errs, color='red', label='Validation_set error')\n",
        "plt.grid()\n",
        "plt.legend()\n",
        "plt.xlabel('Samples')\n",
        "plt.ylabel('Error')\n",
        "plt.show();"
      ],
      "metadata": {
        "colab": {
          "base_uri": "https://localhost:8080/",
          "height": 449
        },
        "outputId": "4cebe9db-abd1-47f7-b13d-181ea7f7f03b",
        "id": "7A5EkMaHpyIa"
      },
      "execution_count": 188,
      "outputs": [
        {
          "output_type": "display_data",
          "data": {
            "text/plain": [
              "<Figure size 640x480 with 1 Axes>"
            ],
            "image/png": "[encoded data removed]"
          },
          "metadata": {}
        }
      ]
    },
    {
      "cell_type": "code",
      "source": [
        "test_pred = knn.predict(X_test)"
      ],
      "metadata": {
        "id": "CfvDB-vIpyIa"
      },
      "execution_count": 192,
      "outputs": []
    },
    {
      "cell_type": "code",
      "source": [
        "y_test = np.array(y_test)"
      ],
      "metadata": {
        "id": "U0ibjKnHpyIa"
      },
      "execution_count": 193,
      "outputs": []
    },
    {
      "cell_type": "code",
      "source": [
        "for i in range(len(test_pred)):\n",
        "  print(f'{y_test[i]} \\  {test_pred[i]}')"
      ],
      "metadata": {
        "colab": {
          "base_uri": "https://localhost:8080/"
        },
        "outputId": "8e006900-4a21-447d-c51c-07c066729ec1",
        "id": "81kXvQnDpyIa"
      },
      "execution_count": 194,
      "outputs": [
        {
          "output_type": "stream",
          "name": "stdout",
          "text": [
            "8400.0 \\  9120.0\n",
            "7800.0 \\  7800.0\n",
            "21600.0 \\  23040.0\n",
            "33600.0 \\  30480.0\n",
            "38400.0 \\  29520.0\n",
            "32400.0 \\  29280.0\n",
            "38400.0 \\  29520.0\n",
            "16800.0 \\  18960.0\n",
            "6000.0 \\  7080.0\n",
            "8400.0 \\  18600.0\n",
            "21600.0 \\  21360.0\n",
            "19200.0 \\  11280.0\n",
            "10200.0 \\  8160.0\n",
            "42000.0 \\  34080.0\n",
            "7200.0 \\  6960.0\n",
            "10200.0 \\  11880.0\n",
            "5400.0 \\  6600.0\n",
            "30000.0 \\  41040.0\n",
            "31200.0 \\  30960.0\n",
            "6000.0 \\  7440.0\n"
          ]
        }
      ]
    },
    {
      "cell_type": "code",
      "source": [
        "plt.title('Predictions on test')\n",
        "sns.barplot(x=range(20), y=y_test, label='Test data');\n",
        "sns.barplot(x=range(20), y=test_pred, label='Test pred');\n",
        "plt.legend()\n",
        "plt.show();"
      ],
      "metadata": {
        "colab": {
          "base_uri": "https://localhost:8080/",
          "height": 452
        },
        "id": "3dhUFs_1qGaw",
        "outputId": "6d70ca3a-9614-46d9-b6c0-5fa5db02e276"
      },
      "execution_count": 204,
      "outputs": [
        {
          "output_type": "display_data",
          "data": {
            "text/plain": [
              "<Figure size 640x480 with 1 Axes>"
            ],
            "image/png": "[encoded data removed]"
          },
          "metadata": {}
        }
      ]
    },
    {
      "cell_type": "markdown",
      "source": [
        "# **Nailed It!**"
      ],
      "metadata": {
        "id": "evN_4YnKrG3T"
      }
    },
    {
      "cell_type": "markdown",
      "source": [
        "**Me when I finished another shitty project**<br>\n",
        "<img src='https://media1.tenor.com/m/J92qz0N7MNoAAAAd/walter-white-ballin-walter-white.gif' width=25%>"
      ],
      "metadata": {
        "id": "TKTbVK3bsdKo"
      }
    }
  ]
}